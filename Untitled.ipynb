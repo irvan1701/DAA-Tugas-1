{
 "cells": [
  {
   "cell_type": "code",
   "execution_count": 1,
   "id": "1ac74226",
   "metadata": {},
   "outputs": [],
   "source": [
    "import numpy as np"
   ]
  },
  {
   "cell_type": "code",
   "execution_count": 2,
   "id": "1647b482",
   "metadata": {},
   "outputs": [
    {
     "name": "stdout",
     "output_type": "stream",
     "text": [
      "[1, 2, 3, 4, 5, 6]\n"
     ]
    }
   ],
   "source": [
    "a = [1, 2, 3]\n",
    "b = [4, 5, 6]\n",
    "\n",
    "Hasil = a+b\n",
    "\n",
    "print(Hasil)"
   ]
  },
  {
   "cell_type": "code",
   "execution_count": 3,
   "id": "9b8e9965",
   "metadata": {},
   "outputs": [
    {
     "name": "stdout",
     "output_type": "stream",
     "text": [
      "[5, 7, 9]\n"
     ]
    }
   ],
   "source": [
    "def add(list_a, list_b):\n",
    "    result = []\n",
    "    for first,  second in zip(list_a, list_b):\n",
    "        result.append(first + second)\n",
    "    return result\n",
    "\n",
    "print(add(a, b))\n",
    "    "
   ]
  },
  {
   "cell_type": "code",
   "execution_count": 4,
   "id": "792c6447",
   "metadata": {},
   "outputs": [
    {
     "name": "stdout",
     "output_type": "stream",
     "text": [
      "90\n"
     ]
    }
   ],
   "source": [
    "nilai_siswa = np.array([85, 55, 40, 90])\n",
    "\n",
    "print(nilai_siswa[3])"
   ]
  },
  {
   "cell_type": "code",
   "execution_count": 5,
   "id": "0419afa0",
   "metadata": {},
   "outputs": [
    {
     "name": "stdout",
     "output_type": "stream",
     "text": [
      "1.24.3\n"
     ]
    }
   ],
   "source": [
    "print(np.__version__)"
   ]
  },
  {
   "cell_type": "code",
   "execution_count": 6,
   "id": "08ee9707",
   "metadata": {},
   "outputs": [
    {
     "data": {
      "text/plain": [
       "'\\nNah ini multiline\\n'"
      ]
     },
     "execution_count": 6,
     "metadata": {},
     "output_type": "execute_result"
    }
   ],
   "source": [
    "#ini komen besar\n",
    "##ini komen kecil\n",
    "\"\"\"\n",
    "Nah ini multiline\n",
    "\"\"\""
   ]
  },
  {
   "cell_type": "code",
   "execution_count": 7,
   "id": "6528e99a",
   "metadata": {},
   "outputs": [
    {
     "name": "stdout",
     "output_type": "stream",
     "text": [
      "Hello Dunia\n",
      "Nama sayaIrvan Nurfauzan Saputra\n",
      "NIM Saya 2022071031\n"
     ]
    }
   ],
   "source": [
    "Nama = \"Irvan Nurfauzan Saputra\"\n",
    "NIM = \"2022071031\"\n",
    "\n",
    "print(\"Hello Dunia\")\n",
    "print(f\"Nama saya{Nama}\")\n",
    "print(f\"NIM Saya {NIM}\")"
   ]
  },
  {
   "cell_type": "code",
   "execution_count": 8,
   "id": "ff977711",
   "metadata": {},
   "outputs": [
    {
     "name": "stdout",
     "output_type": "stream",
     "text": [
      "five is greater than two\n"
     ]
    }
   ],
   "source": [
    "if 5>2:\n",
    "    print(\"five is greater than two\")"
   ]
  },
  {
   "cell_type": "code",
   "execution_count": 9,
   "id": "e0e659c3",
   "metadata": {},
   "outputs": [
    {
     "name": "stdout",
     "output_type": "stream",
     "text": [
      "Sally\n"
     ]
    }
   ],
   "source": [
    "x = 4\n",
    "x =  \"Sally\"\n",
    "print(x)"
   ]
  },
  {
   "cell_type": "code",
   "execution_count": 10,
   "id": "a3c185f0",
   "metadata": {},
   "outputs": [
    {
     "name": "stdout",
     "output_type": "stream",
     "text": [
      "1\n",
      "2\n",
      "10\n"
     ]
    }
   ],
   "source": [
    "a = [1,2,3,4,5,6,7,8,9,10]\n",
    "\n",
    "def getfirst(mylist):\n",
    "    return mylist[0]\n",
    "\n",
    "\n",
    "def getsec(mylist):\n",
    "    return mylist[1]\n",
    "\n",
    "def getlast(mylist):\n",
    "    return mylist[len(mylist)-1]\n",
    "\n",
    "\n",
    "print(getfirst (a))\n",
    "print(getsec (a))\n",
    "print(getlast(a))"
   ]
  },
  {
   "cell_type": "code",
   "execution_count": 11,
   "id": "9379b11e",
   "metadata": {},
   "outputs": [
    {
     "name": "stdout",
     "output_type": "stream",
     "text": [
      "15\n",
      "21\n",
      "44\n",
      "18\n"
     ]
    }
   ],
   "source": [
    "def getsum(mylist):\n",
    "    sum = 0\n",
    "    for item in mylist:\n",
    "        sum = sum+ item\n",
    "    return sum\n",
    "\n",
    "print(getsum ([1,2,3,4,5]))\n",
    "print(getsum ([1,2,3,4,5,6]))\n",
    "print(getsum ([7,3,5,11,8,10]))\n",
    "print(getsum ([-2, 4,  5, -7, 9, 4, 5]))"
   ]
  },
  {
   "cell_type": "code",
   "execution_count": 12,
   "id": "67137c45",
   "metadata": {},
   "outputs": [
    {
     "name": "stdout",
     "output_type": "stream",
     "text": [
      "92400\n"
     ]
    }
   ],
   "source": [
    "def getkali(mylist):\n",
    "    kali = 1\n",
    "    for item in mylist:\n",
    "        kali = kali* item\n",
    "    return kali\n",
    "\n",
    "print(getkali ([7,3,5,11,8,10]))\n"
   ]
  },
  {
   "cell_type": "code",
   "execution_count": 13,
   "id": "ea7fa2fa",
   "metadata": {},
   "outputs": [
    {
     "name": "stdout",
     "output_type": "stream",
     "text": [
      "0.3333333333333333\n"
     ]
    }
   ],
   "source": [
    "def getbagi(mylist):\n",
    "    sum = mylist[0]\n",
    "    for item in mylist:\n",
    "        if item ==1:\n",
    "            bagi = item\n",
    "        sum = sum/ item\n",
    "    return sum\n",
    "\n",
    "print(getbagi ([7,3,]))"
   ]
  },
  {
   "cell_type": "code",
   "execution_count": 14,
   "id": "8c79b5a5",
   "metadata": {},
   "outputs": [
    {
     "name": "stdout",
     "output_type": "stream",
     "text": [
      "5\n",
      "0.00462962962962963\n"
     ]
    }
   ],
   "source": [
    "def getbagi(mylist):\n",
    "    print(len(mylist))\n",
    "    bagi = mylist[0]  #7\n",
    "    for item in mylist[1:]:  #3,9,8,7\n",
    "        bagi = bagi/ item\n",
    "    return bagi\n",
    "\n",
    "print(getbagi([7, 3,9,8,7]))\n"
   ]
  },
  {
   "cell_type": "code",
   "execution_count": 15,
   "id": "81946fc7",
   "metadata": {},
   "outputs": [
    {
     "name": "stdout",
     "output_type": "stream",
     "text": [
      "1.1111111111111112\n"
     ]
    }
   ],
   "source": [
    "#Membagi 2 himpunan Angka\n",
    "A = [1,2,3,4]\n",
    "B = [3,1,4,1]\n",
    "\n",
    "def bagi_himpunan(A, B):\n",
    "    Tambah_a = getsum (A) \n",
    "    Tambah_b = getsum (B)\n",
    "    bagi = Tambah_a/ Tambah_b\n",
    "    return bagi\n",
    "    \n",
    "\n",
    "print(bagi_himpunan(A,B))"
   ]
  },
  {
   "cell_type": "code",
   "execution_count": 16,
   "id": "3d051c7c",
   "metadata": {},
   "outputs": [
    {
     "name": "stdout",
     "output_type": "stream",
     "text": [
      "2.5\n"
     ]
    }
   ],
   "source": [
    "#getavg\n",
    "A = [1,2,3,4]\n",
    "\n",
    "def getavg(mylist):\n",
    "    Hasill = getsum (A)\n",
    "    AVG = Hasill/ len(mylist)\n",
    "    return AVG\n",
    "\n",
    "print(getavg(A))\n"
   ]
  },
  {
   "cell_type": "code",
   "execution_count": 17,
   "id": "57e2a776",
   "metadata": {},
   "outputs": [
    {
     "name": "stdout",
     "output_type": "stream",
     "text": [
      "1\n"
     ]
    }
   ],
   "source": [
    "#Membagi 2 himpunan Angka\n",
    "A = [1,2,3,4]\n",
    "B = [3,1,4,1]\n",
    "\n",
    "def kurangi_himpunan(A, B):\n",
    "    Tambah_a = getsum (A) \n",
    "    Tambah_b = getsum (B)\n",
    "    kurang = Tambah_a- Tambah_b\n",
    "    return kurang\n",
    "    \n",
    "\n",
    "print(kurangi_himpunan(A,B))"
   ]
  },
  {
   "cell_type": "code",
   "execution_count": null,
   "id": "138ccf5c",
   "metadata": {},
   "outputs": [],
   "source": []
  }
 ],
 "metadata": {
  "kernelspec": {
   "display_name": "Python 3 (ipykernel)",
   "language": "python",
   "name": "python3"
  },
  "language_info": {
   "codemirror_mode": {
    "name": "ipython",
    "version": 3
   },
   "file_extension": ".py",
   "mimetype": "text/x-python",
   "name": "python",
   "nbconvert_exporter": "python",
   "pygments_lexer": "ipython3",
   "version": "3.11.4"
  }
 },
 "nbformat": 4,
 "nbformat_minor": 5
}
