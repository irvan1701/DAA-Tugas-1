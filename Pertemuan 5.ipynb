{
 "cells": [
  {
   "cell_type": "markdown",
   "metadata": {},
   "source": [
    "Pertemuan 5\n",
    "Algoritma Divide and Conquer\n",
    "\n",
    "Irvan Nurfauzan Saputra\n",
    "2022071031"
   ]
  },
  {
   "cell_type": "code",
   "execution_count": 3,
   "metadata": {},
   "outputs": [],
   "source": [
    "def divideAndConquer_Max (arr, ind, len):\n",
    "    maximum = -1;\n",
    "    if (ind >= len - 2):\n",
    "        if (arr[ind] > arr[ind + 1]): return arr[ind];\n",
    "        else:\n",
    "            return arr[ind + 1];\n",
    "    maximum = divideAndConquer_Max (arr, ind + 1, len);\n",
    "    if (arr[ind]> maximum): \n",
    "        return arr[ind];\n",
    "    else:\n",
    "        return maximum;"
   ]
  },
  {
   "cell_type": "code",
   "execution_count": 4,
   "metadata": {},
   "outputs": [],
   "source": [
    "def divideAndConquer_Min(arr, ind, len): \n",
    "    minimum = 0;\n",
    "    if (ind >= len - 2):\n",
    "        if (arr[ind] < arr[ind + 1]): \n",
    "            return arr[ind];\n",
    "        else:\n",
    "            return arr[ind + 1];\n",
    "    minimum = divideAndConquer_Min (arr, ind + 1, len);\n",
    "    if (arr[ind] < minimum):\n",
    "        return arr[ind];\n",
    "    else:\n",
    "        return minimum;"
   ]
  },
  {
   "cell_type": "code",
   "execution_count": 22,
   "metadata": {},
   "outputs": [
    {
     "name": "stdout",
     "output_type": "stream",
     "text": [
      "The minimum number in the array is:  1\n",
      "The maximum number in the array is:  435\n"
     ]
    }
   ],
   "source": [
    "# array initialization\n",
    "#arr = [4,12,23,9,21,1,35,2,24];\n",
    "arr = [1, 4 ,5 ,32 ,5 ,31 , 2, 5, 7, 2, 5, 7, 2, 4, 6, 8, 2, 5, 435]\n",
    "maximum = divideAndConquer_Max (arr, 0, len(arr));\n",
    "minimum = divideAndConquer_Min(arr, 0, len(arr));\n",
    "print(\"The minimum number in the array is: \", minimum);\n",
    "print(\"The maximum number in the array is: \", maximum);"
   ]
  },
  {
   "cell_type": "markdown",
   "metadata": {},
   "source": [
    "Merge Sort"
   ]
  },
  {
   "cell_type": "code",
   "execution_count": 33,
   "metadata": {},
   "outputs": [],
   "source": [
    "def mergeSort(array):\n",
    "    if len(array) > 1:\n",
    "        # Divide the array into two halves\n",
    "        mid = len(array) // 2\n",
    "        L = array[:mid]\n",
    "        M = array[mid:]\n",
    "\n",
    "        # Recursive calls to mergeSort for the two halves\n",
    "        mergeSort(L)\n",
    "        mergeSort(M)\n",
    "\n",
    "        i = j = k = 0\n",
    "\n",
    "        # Merge the two halves back into the original array\n",
    "        while i < len(L) and j < len(M):\n",
    "            if L[i] < M[j]:\n",
    "                array[k] = L[i]\n",
    "                i += 1\n",
    "            else:\n",
    "                array[k] = M[j]\n",
    "                j += 1\n",
    "            k += 1\n",
    "\n",
    "        while i < len(L):\n",
    "            array[k] = L[i]\n",
    "            i += 1\n",
    "            k += 1\n",
    "\n",
    "        while j < len(M):\n",
    "            array[k] = M[j]\n",
    "            j += 1\n",
    "            k += 1\n",
    "\n",
    "\n"
   ]
  },
  {
   "cell_type": "code",
   "execution_count": 34,
   "metadata": {},
   "outputs": [
    {
     "name": "stdout",
     "output_type": "stream",
     "text": [
      "Sorted Array is:\n",
      "1 2 4 9 12 21 23 24 35 \n"
     ]
    }
   ],
   "source": [
    "def printList(array):\n",
    "    for i in range(len(array)):\n",
    "        print(array[i], end=\" \")\n",
    "    print()\n",
    "\n",
    "if __name__ == '__main__':\n",
    "    array = [4, 12, 23, 9, 21, 1, 35, 2, 24]\n",
    "\n",
    "    mergeSort(array)\n",
    "    print(\"Sorted Array is:\")\n",
    "    printList(array)"
   ]
  },
  {
   "cell_type": "code",
   "execution_count": 40,
   "metadata": {},
   "outputs": [],
   "source": [
    "#Quick Sort\n",
    "def partition (array, low, high):\n",
    "    pivot = array[high]\n",
    "\n",
    "    i = low - 1\n",
    "    for j in range(low, high): \n",
    "        if array[j] <= pivot:\n",
    "            i = i + 1\n",
    "            (array[i], array[j]) = (array[j], array[i])\n",
    "    (array[i+1], array[high]) = (array[high], array[i + 1])\n",
    "    return i + 1\n",
    "\n"
   ]
  },
  {
   "cell_type": "code",
   "execution_count": 41,
   "metadata": {},
   "outputs": [],
   "source": [
    "def quickSort(array, low, high):\n",
    "    if low < high:\n",
    "        pi = partition(array, low, high)\n",
    "        quickSort(array, low, pi - 1)\n",
    "        quickSort(array, pi + 1, high)"
   ]
  },
  {
   "cell_type": "code",
   "execution_count": 42,
   "metadata": {},
   "outputs": [
    {
     "name": "stdout",
     "output_type": "stream",
     "text": [
      "Unsorted Array : \n",
      "[4, 12, 23, 9, 21, 1, 35, 2, 24]\n",
      "sorted array in ascending order: \n",
      "[1, 2, 4, 9, 12, 21, 23, 24, 35]\n"
     ]
    }
   ],
   "source": [
    "data = [4,12,23,9,21,1,35,2,24]\n",
    "print(\"Unsorted Array : \")\n",
    "print(data)\n",
    "\n",
    "size = len(data)\n",
    "quickSort(data, 0, size - 1)\n",
    "\n",
    "print('sorted array in ascending order: ')\n",
    "print(data)"
   ]
  },
  {
   "cell_type": "code",
   "execution_count": 43,
   "metadata": {},
   "outputs": [],
   "source": [
    "#Hitung Inversi\n",
    "def countInversion(arrr):\n",
    "    result=0\n",
    "    for i in range (len(arr)):\n",
    "        for j in range(i+1, len(arr)):\n",
    "            if arr[i]>arr[j]:\n",
    "                result+=1\n",
    "    return result"
   ]
  },
  {
   "cell_type": "code",
   "execution_count": 44,
   "metadata": {},
   "outputs": [
    {
     "name": "stdout",
     "output_type": "stream",
     "text": [
      "64\n"
     ]
    }
   ],
   "source": [
    "arrr = [21,70,36,14,25]\n",
    "\n",
    "result = countInversion(arr)\n",
    "print(result)"
   ]
  },
  {
   "cell_type": "code",
   "execution_count": 50,
   "metadata": {},
   "outputs": [],
   "source": [
    "#Inversi dengan divide and conquer\n",
    "def countInversionn (arr):\n",
    "    icount=0 \n",
    "    if len(arr)<=1: \n",
    "        return icount\n",
    "    \n",
    "    mid=len(arr)//2\n",
    "    left=arr[:mid]\n",
    "    right=arr[mid:]\n",
    "    icount+=countInversion (left) \n",
    "    icount+=countInversion (right)\n",
    "    i=j=k=0\n",
    "    while i<len(left) and j<len (right):\n",
    "        if left[i]<right[j]: \n",
    "            arr[k]=left[i] \n",
    "            i+=1\n",
    "        else:\n",
    "            #print(left[i], right [j])\n",
    "            arr[k]=right[j]\n",
    "            j+=1\n",
    "            icount+=(mid-i)\n",
    "        k+=1\n",
    "    \n",
    "    while i<len(left):\n",
    "        arr[k]=left[i]\n",
    "        i+=1\n",
    "        k+=1\n",
    "    while j<len(right):\n",
    "        arr[k]=right[j]\n",
    "        j+=1\n",
    "        k+=1\n",
    "    return icount\n"
   ]
  },
  {
   "cell_type": "code",
   "execution_count": 52,
   "metadata": {},
   "outputs": [
    {
     "name": "stdout",
     "output_type": "stream",
     "text": [
      "5\n"
     ]
    }
   ],
   "source": [
    "ar = [1,20,6,4,5]\n",
    "\n",
    "result = countInversionn(ar)\n",
    "print(result)"
   ]
  },
  {
   "cell_type": "code",
   "execution_count": 60,
   "metadata": {},
   "outputs": [],
   "source": [
    "def maxSubSum(arr):\n",
    "    max_so_far = 0\n",
    "    max_ending_here = 0\n",
    "    for i in range(len(arr)):\n",
    "        max_ending_here += arr[i]\n",
    "        if max_ending_here > max_so_far:\n",
    "            max_so_far = max_ending_here\n",
    "        if max_ending_here < 0:\n",
    "            max_ending_here = 0\n",
    "    return max_so_far"
   ]
  },
  {
   "cell_type": "code",
   "execution_count": 61,
   "metadata": {},
   "outputs": [
    {
     "name": "stdout",
     "output_type": "stream",
     "text": [
      "7\n"
     ]
    }
   ],
   "source": [
    "arrrr = [-2, -5, 6, -2, -3, 1, 5, -6]\n",
    "result = maxSubSum(arrrr)\n",
    "print(result)"
   ]
  },
  {
   "cell_type": "code",
   "execution_count": 63,
   "metadata": {},
   "outputs": [
    {
     "name": "stdout",
     "output_type": "stream",
     "text": [
      "7\n"
     ]
    }
   ],
   "source": [
    "# Menggunakan Divide and Conquer\n",
    "\n",
    "\n",
    "def maxCrossingSum(arr, low, mid, high):\n",
    "  result = 0; leftSum = float ('-infinity')\n",
    "  for i in range(mid, low - 1, -1):\n",
    "    result += arr[i]\n",
    "    if result > leftSum:\n",
    "      leftSum = result\n",
    "  \n",
    "  result = 0; rightSum = float('-infinity')\n",
    "  for i in range(mid + 1, high + 1):\n",
    "    result += arr[i]\n",
    "    if result > rightSum:\n",
    "      rightSum = result\n",
    "  return leftSum + rightSum\n",
    "\n",
    "\n",
    "def maxSum(arr, low, high):\n",
    "  if low == high:\n",
    "    return  arr[low]\n",
    "  mid = (low + high)//2\n",
    "  return max(maxSum(arr, low, mid), maxSum(arr, mid + 1, high), maxCrossingSum(arr, low, mid, high))\n",
    "\n",
    "\n",
    "arr = [-2, -5, 6, -2, -3, 1 , 5, -6]\n",
    "result = maxSum(arr, 0, len(arr) - 1)\n",
    "print(result)"
   ]
  },
  {
   "cell_type": "code",
   "execution_count": 64,
   "metadata": {},
   "outputs": [
    {
     "name": "stdout",
     "output_type": "stream",
     "text": [
      "gee\n",
      "ap\n"
     ]
    }
   ],
   "source": [
    "def longestCommonPrefix(a):\n",
    "\n",
    "    size = len(a)\n",
    "\n",
    "    # if size is 0, return empty string\n",
    "    if (size == 0):\n",
    "        return \"\"\n",
    "\n",
    "    if (size == 1):\n",
    "        return a[0]\n",
    "\n",
    "    # sort the array of strings\n",
    "    a.sort()\n",
    "\n",
    "    #find the minimum length from\n",
    "    # first and last string\n",
    "    end = min(len(a[0]), len(a[size - 1]))\n",
    "\n",
    "    # find the common prefix between\n",
    "    # the first and last string\n",
    "    i = 0\n",
    "    while (i < end and\n",
    "           a[0][i] == a [size - 1][i]):\n",
    "      i += 1\n",
    "\n",
    "    pre = a[0][0 : i]\n",
    "    return pre\n",
    "\n",
    "arr=[\"geeksforgeeks\", \"geeks\", \"geek\", \"geezer\"]\n",
    "result=longestCommonPrefix(arr)\n",
    "print(result)\n",
    "\n",
    "arr=[\"apple\",\"ape\",\"april\"]\n",
    "result=longestCommonPrefix(arr)\n",
    "print(result)\n",
    "     "
   ]
  },
  {
   "cell_type": "code",
   "execution_count": 69,
   "metadata": {},
   "outputs": [
    {
     "name": "stdout",
     "output_type": "stream",
     "text": [
      "16\n"
     ]
    }
   ],
   "source": [
    "# median data dari2 array dengan divide dan conquer\n",
    "\n",
    "def medianOfArray(arr1,arr2,n):\n",
    "    m1=-1\n",
    "    m2=-1\n",
    "    count=0\n",
    "    i=j=0\n",
    "    while count<n+1:\n",
    "        count+=1\n",
    "        if i==n:\n",
    "           m1=m2\n",
    "           m2=arr2[0]\n",
    "           break\n",
    "        if j==n:\n",
    "           m1=m2\n",
    "           m2=arr1[0]\n",
    "           break\n",
    "        if arr1[i]<arr2[j]:\n",
    "           m1=m2\n",
    "           m2=arr1[i]\n",
    "           i+=1\n",
    "        else:\n",
    "           m1=m2\n",
    "           m2=arr2[j]\n",
    "           j+=1\n",
    "    return (m1+m2)//2\n",
    "\n",
    "arr1=[1, 12, 15, 26, 38]\n",
    "arr2=[2, 13, 17, 30, 45]\n",
    "\n",
    "print(medianOfArray(arr1,arr2,len(arr1)))"
   ]
  },
  {
   "cell_type": "code",
   "execution_count": 66,
   "metadata": {},
   "outputs": [
    {
     "name": "stdout",
     "output_type": "stream",
     "text": [
      "Median =  3\n"
     ]
    }
   ],
   "source": [
    "def Solution(arr):\n",
    "    n = len(arr)\n",
    "    # if length of array is even\n",
    "    if n % 2 == 0:\n",
    "        z = n // 2\n",
    "        e = arr[z]\n",
    "        q = arr[z - 1]\n",
    "        ans = (e + q) / 2\n",
    "        return ans\n",
    "    # if length of array is old\n",
    "    else:\n",
    "        z = n // 2\n",
    "        ans = arr[z]\n",
    "        return ans\n",
    "\n",
    "arr1 = [-5, 3, 6, 12, 15]\n",
    "arr2 = [-12, -10, -6, -3, 4, 10]\n",
    "#concatenating the two array\n",
    "arr3 = arr1 + arr2\n",
    "#sorting the resultant array\n",
    "arr3.sort()\n",
    "print(\"Median = \", Solution(arr3))\n"
   ]
  },
  {
   "cell_type": "code",
   "execution_count": 70,
   "metadata": {},
   "outputs": [
    {
     "name": "stdout",
     "output_type": "stream",
     "text": [
      "2\n"
     ]
    }
   ],
   "source": [
    "#floor in sorted array\n",
    "\n",
    "def floorSorted(arr,low,high,x):\n",
    "    #print(low,high)\n",
    "    if low>high:\n",
    "      return -1\n",
    "\n",
    "    if arr[low]>x:\n",
    "      #print(\"inside\")\n",
    "      return -1\n",
    "\n",
    "    if arr[high]<=x:\n",
    "      return arr[high]\n",
    "\n",
    "    mid=(low+high)//2\n",
    "\n",
    "    if arr[mid]==x:\n",
    "      return arr[mid]\n",
    "\n",
    "    if mid>0 and x>=arr[mid-1] and arr[mid]>x:\n",
    "      return arr[mid-1]\n",
    "\n",
    "    if mid < high and x<arr[mid+1] and x>=arr[mid]:\n",
    "      return arr[mid]\n",
    "\n",
    "    if x>arr[mid]:\n",
    "      return floorSorted(arr,mid+1,high,x)\n",
    "    else:\n",
    "      return floorSorted(arr,low,mid-1,x)\n",
    "\n",
    "arr=[1,2,8,10,12,14,19]\n",
    "x=5\n",
    "print(floorSorted(arr,0,len(arr)-1,x))"
   ]
  },
  {
   "cell_type": "code",
   "execution_count": 71,
   "metadata": {},
   "outputs": [
    {
     "name": "stdout",
     "output_type": "stream",
     "text": [
      "9\n"
     ]
    }
   ],
   "source": [
    "# Mencari nilai terdekat dengan metode divide dan conquer\n",
    "\n",
    "def closestNumber(arr,low,high,x):\n",
    "    if low>high:\n",
    "        return -1\n",
    "    if arr[high]<=x:\n",
    "        return arr[high]\n",
    "    if arr[low]>=x:\n",
    "        return arr[low]\n",
    "    mid=(low+high)//2\n",
    "    if arr[mid]==x:\n",
    "        return arr[mid]\n",
    "    abs_mid=abs(arr[mid-1]-x)\n",
    "    if mid>0:\n",
    "        abs_left=abs(arr[mid-1]-x)\n",
    "        if abs_left<abs_mid:\n",
    "            return closestNumber(arr,low,mid-1,x)\n",
    "    if mid<high:\n",
    "        abs_right=abs(arr[mid+1]-x)\n",
    "        if abs_rigt<abs_mid:\n",
    "            return closestNumber(arr,mid+1,high,x)\n",
    "    #print('after')\n",
    "    return arr[mid]\n",
    "\n",
    "arr=[2, 5, 6, 7, 8, 9]\n",
    "x = 9\n",
    "print(closestNumber(arr,0,len(arr)-1,x))"
   ]
  },
  {
   "cell_type": "code",
   "execution_count": 72,
   "metadata": {},
   "outputs": [
    {
     "name": "stdout",
     "output_type": "stream",
     "text": [
      "9.35\n",
      "5\n"
     ]
    }
   ],
   "source": [
    "def find_closest(lst,k):\n",
    "    lst.sort()\n",
    "    closest_num = lst[0]\n",
    "    for num in lst:\n",
    "        if abs(num - k) < abs(closest_num - k):\n",
    "            closest_num = num\n",
    "        if num > k:\n",
    "            break\n",
    "    return closest_num\n",
    "\n",
    "lst = [3.64, 5.2, 9.42, 9.35, 8.5, 8]\n",
    "k = 9.1\n",
    "print(find_closest(lst, k))\n",
    "\n",
    "lst = [2,5,5,7,8,8,9]\n",
    "k = 6\n",
    "print(find_closest(lst, k))"
   ]
  },
  {
   "cell_type": "code",
   "execution_count": 73,
   "metadata": {},
   "outputs": [
    {
     "name": "stdout",
     "output_type": "stream",
     "text": [
      "1\n"
     ]
    }
   ],
   "source": [
    "\n",
    "# Mencari fixed point dengan metode divide dan conquer\n",
    "\n",
    "def fixedPoint(arr,low,high):\n",
    "  if low>high:\n",
    "    return -1\n",
    "  if arr[high]==high:\n",
    "    return arr[high]\n",
    "  if arr[low]==low:\n",
    "    return arr[low]\n",
    "  mid=(low+high)//2\n",
    "  if arr[mid]==mid:\n",
    "    return arr[mid]\n",
    "  if mid>arr[mid]:\n",
    "    return fixedPoint(arr,mid+1,high)\n",
    "  else:\n",
    "    return fixedPoint(arr,low,mid-1)\n",
    "\n",
    "arr=[9,1,4,5,2]\n",
    "print(fixedPoint(arr,0,len(arr)-1))"
   ]
  }
 ],
 "metadata": {
  "kernelspec": {
   "display_name": "Python 3",
   "language": "python",
   "name": "python3"
  },
  "language_info": {
   "codemirror_mode": {
    "name": "ipython",
    "version": 3
   },
   "file_extension": ".py",
   "mimetype": "text/x-python",
   "name": "python",
   "nbconvert_exporter": "python",
   "pygments_lexer": "ipython3",
   "version": "3.11.5"
  },
  "orig_nbformat": 4
 },
 "nbformat": 4,
 "nbformat_minor": 2
}
