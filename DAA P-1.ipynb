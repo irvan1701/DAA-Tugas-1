{
 "cells": [
  {
   "cell_type": "code",
   "execution_count": 3,
   "id": "9468f43f",
   "metadata": {},
   "outputs": [
    {
     "name": "stdout",
     "output_type": "stream",
     "text": [
      "FPB dari  3  dan  4  adalah  1\n",
      "KPK dari  3  dan  4  adalah  12 \n",
      "\n"
     ]
    }
   ],
   "source": [
    "#Cari nilai KPK dari 3 dan 4\n",
    "\"\"\"\n",
    "Algoritma:\n",
    "Step 1 Jika n = 0, return nilai m sebagai hasil dan stop. Jika tidak, maka kembali ke Step 2.\t\n",
    "Step 2 Bagi nilai m dengan n, masukkan nilai sisanya ke r.\n",
    "Step 3 Masukan nilai n ke m dan nilai r ke n. Kembali ke Step 1.\n",
    "Step 4 Kali nilai m dengan n, masukkan nilai hasil kali ke p.\n",
    "Step 5 bagi nilai p dengan hasil Step 1\n",
    "\n",
    "Pseudocode:\n",
    "\tWhile n ≠ 0, do\n",
    "\tr ← m mod n\n",
    "\tm ← n\n",
    "\tn ← r \n",
    "\n",
    "\treturn m\n",
    "\n",
    "\tm x n = p\n",
    "\tp/r ← m mod n\n",
    "\t\t\n",
    "\tReturn m\n",
    "\"\"\"\n",
    "\n",
    "A=3\n",
    "B=4\n",
    "\n",
    "def fpb(A,B):\n",
    "    if A<B:\n",
    "        smaller=A\n",
    "    else:\n",
    "        smaller=B\n",
    "    for i in range (1,smaller+1):\n",
    "        if A%i==0 and B%i==0:\n",
    "            fpb=i\n",
    "    return fpb\n",
    "\n",
    "def kpk(A,B):\n",
    "    kpk=int(A*B/fpb(A,B))\n",
    "    return kpk\n",
    "\n",
    "print('KPK dari ',A,' dan ',B,' adalah ',kpk(A,B),'\\n')"
   ]
  },
  {
   "cell_type": "code",
   "execution_count": 5,
   "id": "4651e542",
   "metadata": {},
   "outputs": [
    {
     "name": "stdout",
     "output_type": "stream",
     "text": [
      "Isi Piring 1 sebelum ditukar : Manggis\n",
      "Isi Piring 2 sebelum ditukar : Pisang\n",
      "Isi Piring 3 Setelah ditukar : None\n",
      "\n",
      "\n",
      "Isi Piring 1 Setelah ditukar : Pisang\n",
      "Isi Piring 2 Setelah ditukar : Manggis\n",
      "Isi Piring 3 Setelah ditukar : Manggis\n"
     ]
    }
   ],
   "source": [
    "#Fungsi untuk menukar posisi dua variabel x dan y, dengan kasus : \n",
    "#Ada 2 buah: manggis dan pisang. Manggis di piring 1, Pisang di piring 2. Piring 3 kosong.\n",
    "\"\"\"\n",
    "Algoritma :\n",
    "1. Mendeklarasikan masing masing isi dari p1(piring 1) dan seterusnya\n",
    "2. Menampilkan isi dari masing masing variabel\n",
    "3. Memindahkan isi dari variabel p1 ke Variabel p3\n",
    "4. Memindahkan isi dari variabel p2 ke Variabel p1\n",
    "5. Memindahkan isi dari variabel p3 ke Variabel p2\n",
    "\n",
    "Pseudocode :\n",
    "p1 = Manggis\n",
    "p2 = Pisang\n",
    "p3 = kosong\n",
    "\n",
    "p3 <-- p1\n",
    "p1 <-- p2\n",
    "p2 = p3\n",
    "\n",
    "\"\"\"\n",
    "\n",
    "p1 = \"Manggis\"\n",
    "p2 = \"Pisang\"\n",
    "p3 = None\n",
    "\n",
    "print (f\"Isi Piring 1 sebelum ditukar : {p1}\")\n",
    "print (f\"Isi Piring 2 sebelum ditukar : {p2}\")\n",
    "print (f\"Isi Piring 3 Setelah ditukar : {p3}\\n\\n\")\n",
    "\n",
    "p3 = p1\n",
    "p1 = p2\n",
    "p2 = p3\n",
    "\n",
    "\n",
    "print (f\"Isi Piring 1 Setelah ditukar : {p1}\")\n",
    "print (f\"Isi Piring 2 Setelah ditukar : {p2}\")\n",
    "print (f\"Isi Piring 3 Setelah ditukar : {p3}\")"
   ]
  },
  {
   "cell_type": "code",
   "execution_count": 4,
   "id": "97810b2d",
   "metadata": {},
   "outputs": [
    {
     "name": "stdout",
     "output_type": "stream",
     "text": [
      "375.0\n"
     ]
    }
   ],
   "source": [
    "##Diketahui sebuah segitiga memiliki ukuran sebagai berikut: Alas 25 Tinggi 30 Hitung luas dari segitiga tersebut.\n",
    "\"\"\"\n",
    "Algoritma :\n",
    "Mendeklarasikan alsa = 25 dan tinggi = 30 \n",
    "menghitung luas dengan rumus 1/2 * alas * tinggi dan memasukkan nilainya ke variabel luas\n",
    "mengembalikan dan  mencetak nilai variabel luas\n",
    "\n",
    "Pseudocode:\n",
    "alas = 25\n",
    "tinggi =30\n",
    "luas = 1/2 * alas * tinggi\n",
    "return luas\n",
    "\"\"\"\n",
    "alas = 25\n",
    "tinggi = 30\n",
    "luas = 1/2 * alas * tinggi\n",
    "\n",
    "print(luas)"
   ]
  },
  {
   "cell_type": "code",
   "execution_count": null,
   "id": "59f03fbb",
   "metadata": {},
   "outputs": [],
   "source": [
    "# Tentukan algoritma dan pseudocode luas jajar genjang (panjang = 5, tinggi = 3) \n",
    "\"\"\"\n",
    "Algoritma:\n",
    "Mendeklarasikan alsa =5 dan tinggi = 3 \n",
    "menghitung luas dengan rumus luas = p * t dan memasukkan nilainya ke variabel luas\n",
    "mengembalikan dan  mencetak nilai variabel luas\n",
    "\n",
    "\n",
    "Pseudocode:\n",
    "p = 5\n",
    "t = 3\n",
    "luas = p * t\n",
    "\n",
    "return luas\n",
    "\"\"\"\n",
    "p = 5\n",
    "t = 3\n",
    "luas = p * t\n",
    "\n",
    "print(luas)"
   ]
  },
  {
   "cell_type": "code",
   "execution_count": null,
   "id": "3991410c",
   "metadata": {},
   "outputs": [],
   "source": [
    "#Tentukan algoritma dan pseudocode volume tabung (jari-jari = 3, tinggi = 5) \n",
    "\"\"\"\n",
    "Mendeklarasikan  r=3 dan t=5\n",
    "menghitung luas dengan rumus 3.14 * r * r * t dan memasukkan nilainya ke variabel L\n",
    "mengembalikan dan  mencetak nilai variabel L\n",
    "\n",
    "\n",
    "Pseudocode:\n",
    "r = 3\n",
    "t = 5\n",
    "L = 3.14 * r * r * t\n",
    "\n",
    "return L\n",
    "\"\"\"\n",
    "r = 3\n",
    "t = 5\n",
    "\n",
    "L = 3.14 * r * r * t\n",
    "\n",
    "print(L)"
   ]
  },
  {
   "cell_type": "code",
   "execution_count": null,
   "id": "d2fff23a",
   "metadata": {
    "scrolled": true
   },
   "outputs": [],
   "source": [
    "#Tentukan algoritma dan pseudocode volume kerucut (diameter = 5, tinggi = 4) \n",
    "\"\"\"\n",
    "Algoritma:\n",
    "Mendeklarasikan  r=5 dan t=4\n",
    "Membuat variabel r = d/2 \n",
    "menghitung volume dengan rumus 1/3*3.14*r*r*t dan memasukkan nilainya ke variabel v\n",
    "mengembalikan dan  mencetak nilai variabel v\n",
    "\n",
    "\n",
    "Pseudocode:\n",
    "d = 5\n",
    "t = 4\n",
    "r = d/2\n",
    "\n",
    "v = 1/3*3.14*r*r*t\n",
    "return v\n",
    "\"\"\"\n",
    "\n",
    "d = 5\n",
    "t = 4\n",
    "r = d/2\n",
    "\n",
    "v = 1/3*3.14*r*r*t\n",
    "\n",
    "print(v)"
   ]
  }
 ],
 "metadata": {
  "kernelspec": {
   "display_name": "Python 3 (ipykernel)",
   "language": "python",
   "name": "python3"
  },
  "language_info": {
   "codemirror_mode": {
    "name": "ipython",
    "version": 3
   },
   "file_extension": ".py",
   "mimetype": "text/x-python",
   "name": "python",
   "nbconvert_exporter": "python",
   "pygments_lexer": "ipython3",
   "version": "3.11.4"
  }
 },
 "nbformat": 4,
 "nbformat_minor": 5
}
