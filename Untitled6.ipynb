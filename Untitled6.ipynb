{
  "nbformat": 4,
  "nbformat_minor": 0,
  "metadata": {
    "colab": {
      "provenance": []
    },
    "kernelspec": {
      "name": "python3",
      "display_name": "Python 3"
    },
    "language_info": {
      "name": "python"
    }
  },
  "cells": [
    {
      "cell_type": "markdown",
      "source": [
        "Irvan Nurfauzan Saputra\n",
        "2022071031"
      ],
      "metadata": {
        "id": "OmKPosHjIfhl"
      }
    },
    {
      "cell_type": "code",
      "source": [
        "# Slide 9\n",
        "#Fibbonaci dengan while\n",
        "nterms = int(input(\"How many terms? \"))\n",
        "n1, n2 = 0, 1\n",
        "count = 0\n",
        "if nterms <= 0:\n",
        "  print(\"Please enter a positive integer\")\n",
        "elif nterms == 1:\n",
        "  print(\"Fibonacci sequence upto \",nterms,\":\")\n",
        "  print(n1)\n",
        "else:\n",
        "  print(\"Fibonacci sequence:\")\n",
        "  while count <nterms:\n",
        "    print(n1)\n",
        "    nth = n1+n2\n",
        "    #update nilai\n",
        "    n1 = n2\n",
        "    n2 = nth\n",
        "    count += 1"
      ],
      "metadata": {
        "id": "BA0Blts6Xp0T"
      },
      "execution_count": null,
      "outputs": []
    },
    {
      "cell_type": "code",
      "source": [
        "# Slide 10\n",
        "# Fibonacci dengan rekursi\n",
        "\n",
        "def recur_fibo(n):\n",
        "  if n <= 1:\n",
        "    return n\n",
        "  else:\n",
        "    return(recur_fibo(n-1) + recur_fibo(n-2))\n",
        "\n",
        "# Memakai input\n",
        "nterms = int(input(\"How many terms? \"))\n",
        "\n",
        "# Cek nilai nterms\n",
        "if nterms <= 0:\n",
        "  print(\"Please enter a positive integer\")\n",
        "else:\n",
        "  print(\"Fibonacci sequence: \")\n",
        "  for i in range(nterms):\n",
        "    print(recur_fibo(i))\n",
        "\n"
      ],
      "metadata": {
        "id": "YFkde7woXtMD"
      },
      "execution_count": null,
      "outputs": []
    },
    {
      "cell_type": "code",
      "source": [
        "# Slide 24\n",
        "# The Travelling Salesperson Problem\n",
        "import matplotlib\n",
        "import matplotlib.pyplot as plt\n",
        "import random\n",
        "import time\n",
        "import itertools"
      ],
      "metadata": {
        "id": "VmD0U8WCXMNE"
      },
      "execution_count": null,
      "outputs": []
    },
    {
      "cell_type": "code",
      "source": [
        "# Slide 25\n",
        "# Try all tours (exact_TSP)\n",
        "def exact_TSP(cities):\n",
        "  \"Generate all possible tours of the cities and choose te shortest one.\"\n",
        "  return shortest(alltours(cities))\n",
        "\n",
        "def shortest(tours):\n",
        "  \"Return the tour with the minimum total distance.\"\n",
        "  return min(tours, key = total_distance)"
      ],
      "metadata": {
        "id": "pz0_HgDnX1cs"
      },
      "execution_count": null,
      "outputs": []
    },
    {
      "cell_type": "code",
      "source": [
        "# Slide 27\n",
        "# Representing Tours\n",
        "alltours = itertools.permutations\n",
        "\n",
        "cities = {1, 2, 3}\n",
        "\n",
        "list(alltours(cities))"
      ],
      "metadata": {
        "id": "RBktGyhTX4fw"
      },
      "execution_count": null,
      "outputs": []
    },
    {
      "cell_type": "code",
      "source": [
        "# Slide 28\n",
        "# Representing Cities and Distance\n",
        "def total_distance(tour):\n",
        "    \"The total distance between each pair of consecutive cities in the tour.\"\n",
        "    return sum(distance(tour[i], tour[i-1]) for i in range(len(tour)))\n"
      ],
      "metadata": {
        "id": "RltgqvOZYQpj"
      },
      "execution_count": null,
      "outputs": []
    },
    {
      "cell_type": "code",
      "source": [
        "# Slide 29\n",
        "City = complex # Contructor for new cities, e.g. City(300, 400)\n",
        "\n",
        "def distance(A, B):\n",
        "  \"The distance between two points.\"\n",
        "  return abs(A - B)"
      ],
      "metadata": {
        "id": "TpfGS-jkYVKU"
      },
      "execution_count": null,
      "outputs": []
    },
    {
      "cell_type": "code",
      "source": [
        "# Slide 30\n",
        "A = City(300, 0)\n",
        "B = City(0, 400)\n",
        "\n",
        "distance(A, B)"
      ],
      "metadata": {
        "id": "IgLrTOJoYZXM"
      },
      "execution_count": null,
      "outputs": []
    },
    {
      "cell_type": "code",
      "source": [
        "# Slide 31\n",
        "# Make a set of random Cities\n",
        "def Cities(n):\n",
        "  \"Make a set of n cities, each with random coordinates.\"\n",
        "  return set(City(random.randrange(10, 890), random.randrange(10, 590)) for c in range(n))\n",
        "\n",
        "# Let's make some standard sets of cities of various sizes\n",
        "# We'll set the random seed so that these sets are the same every time we run this notebook\n",
        "random.seed('seed')\n",
        "cities8, cities10, cities100, cities1000, cities10000= Cities(8), Cities(10), Cities(100), Cities(1000), Cities(10000)\n",
        "cities8"
      ],
      "metadata": {
        "id": "K_4DBHzDYdq7"
      },
      "execution_count": null,
      "outputs": []
    },
    {
      "cell_type": "code",
      "source": [
        "# Slide 32\n",
        "# Apply the exact TSP function to find the minimal tour\n",
        "\n",
        "tour = exact_TSP(cities8)\n",
        "\n",
        "print(tour)\n",
        "print(total_distance(tour))"
      ],
      "metadata": {
        "id": "0MOW3hNpYg_L"
      },
      "execution_count": null,
      "outputs": []
    },
    {
      "cell_type": "code",
      "source": [
        "# Slide 33\n",
        "# Try All Non-Redundant Tours\n",
        "def alltours(cities):\n",
        "  \"Return a list of tours, each a permutation of cities, but each one starting with the same city.\"\n",
        "  start = first(cities)\n",
        "  return [[start] + list(tour)\n",
        "  for tour in itertools.permutations(cities - {start})]\n",
        "\n",
        "def first(collection):\n",
        "  \"Start iterating over collection, and return the first element.\"\n",
        "  for x in collection:\n",
        "    return x"
      ],
      "metadata": {
        "id": "4MeD9EK9YjHL"
      },
      "execution_count": null,
      "outputs": []
    },
    {
      "cell_type": "code",
      "source": [
        "# Slide 34\n",
        "# We can verify that for 3 cities there are now 2 tours (not 6) and for 4 cities there are 6 tours (not 24).\n",
        "\n",
        "alltours({1, 2, 3})\n",
        "\n",
        "alltours({1, 2, 3, 4})"
      ],
      "metadata": {
        "id": "iQieYM3ZYmgb"
      },
      "execution_count": null,
      "outputs": []
    },
    {
      "cell_type": "code",
      "source": [
        "# Slide 35\n",
        "# We can also verify that calling exact_TSP(cities8) still works and gives the same tour with the same total distance.\n",
        "# (But it is now about 8 times faster.)\n",
        "tour = exact_TSP(cities8)\n",
        "\n",
        "print(tour)\n",
        "print(total_distance(tour))"
      ],
      "metadata": {
        "id": "aZyTxAVYYr4j"
      },
      "execution_count": null,
      "outputs": []
    },
    {
      "cell_type": "code",
      "source": [
        "# Slide 37\n",
        "# Plotting\n",
        "def plot_tour(algorithm, cities):\n",
        "  \"Apply a TSP algorithm to cities, and plot the resulting tour.\"\n",
        "  # Find the solution and time long it takes\n",
        "  t0 = time.time()\n",
        "  tour = algorithm(cities)\n",
        "  t1 = time.time()\n",
        "  # Plot the tour as blue lines between blue circles, and the starting city as a red square.\n",
        "  plotline(list(tour) + [tour[0]])\n",
        "  plotline([tour[0]], 'rs')\n",
        "  plt.show\n",
        "  print(\"{} city tour; total distance = {:.1f}; time = {:.3f} secs for {}\".format(\n",
        "      len(tour), total_distance(tour), t1-t0, algorithm.__name__))\n",
        "\n",
        "def plotline(points, style = 'bo-'):\n",
        "  \"Plot a list of points (complex numbers) in the 2-D plane.\"\n",
        "  X, Y = XY(points)\n",
        "  plt.plot(X, Y, style)\n",
        "\n",
        "def XY(points):\n",
        "  \"Given a list of points, return two lists: X coordinates, and Y coordinates.\"\n",
        "  return [p.real for p in points], [p.imag for p in points]\n",
        "\n",
        "plot_tour(exact_TSP, cities8)\n"
      ],
      "metadata": {
        "id": "KKhhLe1CYtqU"
      },
      "execution_count": null,
      "outputs": []
    },
    {
      "cell_type": "code",
      "source": [
        "plot_tour(exact_TSP, cities10)"
      ],
      "metadata": {
        "id": "wmf_MiFulY2I"
      },
      "execution_count": null,
      "outputs": []
    },
    {
      "cell_type": "code",
      "source": [
        "# Slide 39\n",
        "# Greedy Nearest Neighbor (greedy_TSP)\n",
        "def greedy_TSP(cities):\n",
        "  \"At each step, visit the nearest neighbor that is still unvisited\"\n",
        "  start = first(cities)\n",
        "  tour = [start]\n",
        "  unvisited = cities - {start}\n",
        "  while unvisited:\n",
        "    C = nearest_neighbor(tour[-1], unvisited)\n",
        "    tour.append(C)\n",
        "    unvisited.remove(C)\n",
        "  return tour\n",
        "\n",
        "def nearest_neighbor(A, cities):\n",
        "  \"Find the city in cities that is nearest to city A.\"\n",
        "  return min(cities, key = lambda x: distance(x, A))"
      ],
      "metadata": {
        "id": "k81QTDRWYy5N"
      },
      "execution_count": null,
      "outputs": []
    },
    {
      "cell_type": "code",
      "source": [
        "cities = Cities(9)\n",
        "plot_tour(exact_TSP, cities)\n",
        "plot_tour(greedy_TSP, cities)"
      ],
      "metadata": {
        "id": "J1zisvA-lpnp"
      },
      "execution_count": null,
      "outputs": []
    },
    {
      "cell_type": "code",
      "source": [
        "# Slide 41\n",
        "plot_tour(greedy_TSP, cities100)"
      ],
      "metadata": {
        "id": "8burMFo6mC-Q"
      },
      "execution_count": null,
      "outputs": []
    },
    {
      "cell_type": "code",
      "source": [
        "# Slide 41\n",
        "plot_tour(greedy_TSP, cities1000)"
      ],
      "metadata": {
        "id": "mS731vYtmTyI"
      },
      "execution_count": null,
      "outputs": []
    },
    {
      "cell_type": "code",
      "source": [
        "#Slide 43\n",
        "# Greedy Nearest Neighbor (greedy_TSP)\n",
        "def greedy_TSP(cities):\n",
        "  \"At each step, visit the nearest neighbor that is still unvisited\"\n",
        "  start = first(cities)\n",
        "  tour = [start]\n",
        "  unvisited = cities - {start}\n",
        "  while unvisited:\n",
        "    C = nearest_neighbor(tour[-1], unvisited)\n",
        "    tour.append(C)\n",
        "    unvisited.remove(C)\n",
        "  return tour\n",
        "\n",
        "def nearest_neighbor(A, cities):\n",
        "  \"Find the city in cities that is nearest to city A.\"\n",
        "  return min(cities, key = lambda x: distance(x, A))"
      ],
      "metadata": {
        "id": "IyUQrSY_mgkm"
      },
      "execution_count": null,
      "outputs": []
    },
    {
      "cell_type": "code",
      "source": [
        "# Slide 45\n",
        "#Algorithm 3: Greedy Nearest Neighbor from All Starting Points (all_greedy_TSP)\n",
        "def all_greedy_TSP(cities):\n",
        "  \"Try the greedy algorithm from each of the starting cities; return the shortest tour.\"\n",
        "  return shortest (greedy_TSP (cities, start=c) for c in cities)\n",
        "# We will modify greedy_TSP to take an optional start city; otherwise it is unchanged.\n",
        "def greedy_TSP(cities, start=None):\n",
        "  \"At each step, visit the nearest neighbor that is still unvisited.\"\n",
        "  if start is None: start = first (cities)\n",
        "  tour = [start]\n",
        "  unvisited = cities - {start}\n",
        "  while unvisited:\n",
        "    C = nearest_neighbor(tour[-1], unvisited)\n",
        "    tour.append(C)\n",
        "    unvisited.remove(C)\n",
        "  return tour"
      ],
      "metadata": {
        "id": "eNVYnYKln59_"
      },
      "execution_count": null,
      "outputs": []
    },
    {
      "cell_type": "code",
      "source": [
        "# Slide 44\n",
        "plot_tour(greedy_TSP, cities100)"
      ],
      "metadata": {
        "id": "u0_Xnb7Amlhi"
      },
      "execution_count": null,
      "outputs": []
    },
    {
      "cell_type": "code",
      "source": [
        "# Slide 44\n",
        "plot_tour(all_greedy_TSP, cities100)\n"
      ],
      "metadata": {
        "id": "S1kuIgn2mxmf"
      },
      "execution_count": null,
      "outputs": []
    },
    {
      "cell_type": "code",
      "source": [
        "# Slide 47\n",
        "# Algorithm 4: Greedy Nearest Neighbor with Exact End (greedy_exact_end_TSP)\n",
        "\n",
        "def greedy_exact_end_TSP(cities, start=None, end_size=8):\n",
        "  \"At each step, visit the nearest neighbor that is still unvisited untill there are k_end cities left; then choose the best ofall possible endings.\"\n",
        "  if start is None:\n",
        "    start = first(cities)\n",
        "    tour = [start]\n",
        "    unvisited = cities - {start}\n",
        "    # Use greedy algoritm for all but the last end_size cities\n",
        "    while len(unvisited) > end_size:\n",
        "      C = nearest_neighbor(tour[-1], unvisited)\n",
        "      tour.append(C)\n",
        "      unvisited.remove(C)\n",
        "\n",
        "    ends = map(list, itertools.permutations(unvisited))\n",
        "    best = shortest([tour[0], tour[-1]] + end for end in ends)\n",
        "    return tour + best[2:]"
      ],
      "metadata": {
        "id": "MK84a96bYzES"
      },
      "execution_count": null,
      "outputs": []
    },
    {
      "cell_type": "code",
      "source": [
        "# Slide 48\n",
        "plot_tour(greedy_exact_end_TSP, cities100)"
      ],
      "metadata": {
        "id": "Egauwh2VoZSR"
      },
      "execution_count": null,
      "outputs": []
    },
    {
      "cell_type": "code",
      "source": [
        "#Slide 48\n",
        "plot_tour(greedy_exact_end_TSP, cities1000)"
      ],
      "metadata": {
        "id": "WDKfv8L6ohh-"
      },
      "execution_count": null,
      "outputs": []
    },
    {
      "cell_type": "code",
      "source": [
        "# Slide 49\n",
        "# Algorithm 5: Greedy Nearest Neighbor with Both Ends Search (greedy_bi_TSP)\n",
        "\n",
        "def greedy_bi_TSP(cities, start_size=12, end_size=6):\n",
        "  \"At each step, visit the nearest neighbor that is still unvisited.\"\n",
        "  starts = random.sample(cities, min(len(cities), start_size))\n",
        "  return shortest(greedy_exact_end_TSP(cities, start, end_size) for start in starts)"
      ],
      "metadata": {
        "id": "Z37q8OxHYzGP"
      },
      "execution_count": null,
      "outputs": []
    },
    {
      "cell_type": "code",
      "source": [
        "#Slide 49\n",
        "# Algorithm 5: Greedy Nearest Neighbor with Both Ends Search (greedy_bi_TSP)\n",
        "\n",
        "def greedy_bi_TSP(cities, start_size=12, end_size=6):\n",
        "  \"At each step, visit the nearest neighboor that is still unvisited.\"\n",
        "  starts = random.sample(cities, min(len(cities), start_size))\n",
        "  return shortest(greedy_exact_end_TSP(cities, start, end_size)\n",
        "                  for start in start)"
      ],
      "metadata": {
        "id": "jggXLyT6pTY-"
      },
      "execution_count": null,
      "outputs": []
    },
    {
      "cell_type": "code",
      "source": [
        "# Slide 50\n",
        "random.seed('bi')\n",
        "plot_tour(greedy_bi_TSP, cities100)\n"
      ],
      "metadata": {
        "id": "X8cBtpXJuS2Z"
      },
      "execution_count": null,
      "outputs": []
    },
    {
      "cell_type": "code",
      "source": [
        "plot_tour(greedy_bi_TSP, cities1000)"
      ],
      "metadata": {
        "id": "JQ0ZFxwwRiCG"
      },
      "execution_count": null,
      "outputs": []
    },
    {
      "cell_type": "code",
      "source": [
        "# Slide 51\n",
        "# Benchmarking Algorithms\n",
        "def compare_algorithms(algorithms, maps):\n",
        "  \"Apply each algorithm to each map and plot results.\"\n",
        "  for algorithm in algorithms:\n",
        "    t0 = time.time()\n",
        "    results = [total_distance(algorithm(m)) for m in maps]\n",
        "    t1 = time.time()\n",
        "    avg = sum(results) / len(results)\n",
        "    label = '{:.0f}; {:.1f}s: {}'.format(avg, t1-t0, algorithm.__name__)\n",
        "    plt.plot(sorted(results), label=label)\n",
        "  plt.legend(loc=2)\n",
        "  plt.show()\n",
        "  print('{} x {}-city maps'.format(len(maps), len(maps[0])))\n",
        "\n",
        "def Maps(M, N):\n",
        "  \"Return a list of M maps, each consisting of a set of N cities.\"\n",
        "  return [Cities(N) for m in range(M)]"
      ],
      "metadata": {
        "id": "c4W_vzP4ZFG7"
      },
      "execution_count": null,
      "outputs": []
    },
    {
      "cell_type": "code",
      "source": [
        "# Slide 52\n",
        "compare_algorithms([greedy_TSP, greedy_exact_end_TSP, all_greedy_TSP], Maps(100, 50))"
      ],
      "metadata": {
        "id": "95ncYEMIr4_d"
      },
      "execution_count": null,
      "outputs": []
    },
    {
      "cell_type": "code",
      "source": [
        "# Slide 53\n",
        "def bi_10_6(cities): return greedy_bi_TSP(cities, 10, 6)\n",
        "def bi_20_5(cities): return greedy_bi_TSP (cities, 20, 5)\n",
        "def bi_40_4(cities): return greedy_bi_TSP (cities, 40, 4)\n",
        "def bi_80_2(cities): return greedy_bi_TSP (cities, 80, 2)\n",
        "def bi_160_1(cities): return greedy_bi_TSP(cities, 160, 1)\n",
        "\n",
        "algorithms = [bi_10_6, bi_20_5, bi_40_4, bi_80_2, bi_160_1]"
      ],
      "metadata": {
        "id": "mYlv14uxZFKy"
      },
      "execution_count": null,
      "outputs": []
    },
    {
      "cell_type": "code",
      "source": [
        "# Slide 54\n",
        "compare_algorithms([greedy_TSP, greedy_exact_end_TSP, all_greedy_TSP], Maps(100, 50))"
      ],
      "metadata": {
        "id": "aCw0h1TNuqQZ"
      },
      "execution_count": null,
      "outputs": []
    },
    {
      "cell_type": "code",
      "source": [
        "# Slide 54"
      ],
      "metadata": {
        "id": "jC5-cwVdwAng"
      },
      "execution_count": null,
      "outputs": []
    },
    {
      "cell_type": "code",
      "source": [
        "# Slide 55\n",
        "# Benchmarking Algorithms\n",
        "def compare_algorithms(algorithms, maps):\n",
        "  \"Apply each algorithm to each map and plot results.\"\n",
        "  for algorithm in algorithms:\n",
        "    t0 = time.time()\n",
        "    results = [total_distance(algorithm(m)) for m in maps]\n",
        "    t1 = time.time()\n",
        "    avg = sum(results) / len(results)\n",
        "    label = '{:.0f}; {:.1f}s: {}'.format(avg, t1-t0, algorithm.__name__)\n",
        "    plt.plot(sorted(results), label=label)\n",
        "  plt.legend(loc=2)\n",
        "  plt.show()\n",
        "  print('{} x {}-city maps'.format(len(maps), len(maps[0])))\n",
        "\n",
        "def Maps(M, N):\n",
        "  \"Return a list of M maps, each consisting of a set of N cities.\"\n",
        "  return [Cities(N) for m in range(M)]\n",
        "\n",
        "compare_algorithms([greedy_TSP, greedy_exact_end_TSP, all_greedy_TSP], Maps(100, 50))"
      ],
      "metadata": {
        "id": "MyZBZ8BluqTS"
      },
      "execution_count": null,
      "outputs": []
    },
    {
      "cell_type": "code",
      "source": [
        "# Slide 57\n",
        "# Algoritma Geedy: Huffman Coding\n",
        "string = 'BCAADDDCCACACAC'\n",
        "# Creating tree nodes\n",
        "class NodeTree(object):\n",
        "  def __init__(self, left = None, right = None):\n",
        "    self.left = left\n",
        "    self.right = right\n",
        "\n",
        "  def children(self):\n",
        "    return (self.left, self.right)\n",
        "\n",
        "  def nodes(self):\n",
        "    return (self.left, self.right)\n",
        "\n",
        "  def __str__(self):\n",
        "    return '%s_%s' % (self.left, self.right)\n"
      ],
      "metadata": {
        "id": "tZUXNZm2uqVx"
      },
      "execution_count": null,
      "outputs": []
    },
    {
      "cell_type": "code",
      "source": [
        "# Slide 58\n",
        "# Main Function implemening huffman coding\n",
        "def huffman_code_tree(node, left = True, binString = ''):\n",
        "  if type(node) is str:\n",
        "    return {node: binString}\n",
        "  (l, r) = node.children()\n",
        "  d = dict()\n",
        "  d.update(huffman_code_tree(l, True, binString + '0'))\n",
        "  d.update(huffman_code_tree(r, False, binString + '1'))\n",
        "  return d"
      ],
      "metadata": {
        "id": "fnB3lVzZZTZF"
      },
      "execution_count": null,
      "outputs": []
    },
    {
      "cell_type": "code",
      "source": [
        "#Slide 59\n",
        "# Calculating frequency\n",
        "freq = {}\n",
        "for c in string:\n",
        "  if c in freq:\n",
        "    freq[c] += 1\n",
        "  else:\n",
        "    freq[c] = 1\n",
        "\n",
        "freq = sorted(freq.items(), key=lambda x: x[1], reverse=True)\n",
        "\n",
        "nodes = freq\n",
        "\n",
        "while len(nodes) > 1:\n",
        "  (key1, c1) = nodes[-1]\n",
        "  (key2, c2) = nodes[-2]\n",
        "  nodes = nodes[:-2]\n",
        "  node = NodeTree(key1, key2)\n",
        "  nodes.append((node, c1 + c2))\n",
        "\n",
        "  nodes = sorted(nodes, key=lambda x: x[1], reverse=True)\n",
        "\n",
        "huffmanCode = huffman_code_tree(nodes[0][0])\n",
        "\n",
        "print(' Char | Huffman code ')\n",
        "print('----------------------')\n",
        "for (char, frequency) in freq:\n",
        "  print(' %-4r | %12s' % (char, huffmanCode[char]))"
      ],
      "metadata": {
        "id": "yFpfNx9IZTcE"
      },
      "execution_count": null,
      "outputs": []
    },
    {
      "cell_type": "code",
      "source": [
        "# Slide 85\n",
        "# A Huffman Tree Node\n",
        "import heapq\n",
        "\n",
        "class node:\n",
        "  def __init__(self, freq, symbol, left=None, right=None):\n",
        "     # frequency of symbol\n",
        "     self.freq = freq\n",
        "\n",
        "     # symbol name (character)\n",
        "     self.symbol = symbol\n",
        "\n",
        "     # node left of current node\n",
        "     self.left = left\n",
        "\n",
        "     # node right of current node\n",
        "     self.right = right\n",
        "\n",
        "     # tree direction (0/1)\n",
        "     self.huff = ''\n",
        "  def __lt__(self, nxt):\n",
        "    return self.freq < nxt.freq\n",
        "\n",
        "# utility function to print huffman\n",
        "# codes for all symbols in the newly\n",
        "# created Huffman tree\n",
        "def printNodes(node, val=''):\n",
        "\n",
        "# huffman code for current node\n",
        "  newVal = val + str(node.huff)\n",
        "\n",
        "  # if node is not an edge node\n",
        "  # then traverse inside it\n",
        "  if(node.left):\n",
        "    printNodes(node.left, newVal)\n",
        "  if(node.left):\n",
        "    printNodes(node.right, newVal)\n",
        "\n",
        "    # if node is edge node then\n",
        "    # display its huffman code\n",
        "  if(not node.left and not node.right):\n",
        "    print(f\"{node.symbol} -> {newVal}\")\n",
        "\n",
        "# characters for huffman tree\n",
        "chars = ['a', 'b', 'c', 'd', 'e', 'f']\n",
        "\n",
        "# frequency of characters\n",
        "freq = [5, 9, 12, 13, 16, 45]\n",
        "\n",
        "# list containing unused nodes\n",
        "nodes = []\n",
        "\n",
        "# convertiing characters and frequencies\n",
        "# into huffman tree nodes\n",
        "for x in range(len(chars)):\n",
        "  heapq.heappush(nodes, node(freq[x], chars[x]))\n",
        "\n",
        "while len(nodes) > 1:\n",
        "\n",
        "  # sort all the nodes in ascending order\n",
        "  # based on their frequency\n",
        "  left = heapq.heappop(nodes)\n",
        "  right = heapq.heappop(nodes)\n",
        "\n",
        "  # assign directional value to these nodes\n",
        "  left.huff = 0\n",
        "  right.huff = 1\n",
        "\n",
        "  # combine the 2 smallest nodes to create\n",
        "  # new node as their parrent\n",
        "  newNode = node(left.freq + right.freq, left.symbol + right.symbol, left, right)\n",
        "\n",
        "  heapq.heappush(nodes, newNode)\n",
        "\n",
        "# Huffman Tree is readyy\n",
        "printNodes(nodes[0])"
      ],
      "metadata": {
        "id": "mR6GO8jFZYYM"
      },
      "execution_count": null,
      "outputs": []
    }
  ]
}