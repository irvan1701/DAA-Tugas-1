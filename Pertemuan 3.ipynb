{
 "cells": [
  {
   "cell_type": "code",
   "execution_count": 6,
   "id": "4d767c63",
   "metadata": {},
   "outputs": [],
   "source": [
    "from datetime import date"
   ]
  },
  {
   "cell_type": "code",
   "execution_count": 64,
   "id": "3d626d02",
   "metadata": {},
   "outputs": [
    {
     "name": "stdout",
     "output_type": "stream",
     "text": [
      "['Irvan Nurfauzan Saputra', 2022071031, 'Informatika', 'DAA', datetime.date(2023, 9, 13), 'Universitas Pembangunan Jaya']\n"
     ]
    }
   ],
   "source": [
    "today = date.today()\n",
    "mahasiswa = ['Irvan Nurfauzan Saputra', \n",
    "             2022071031, 'Informatika', 'DAA', \n",
    "             today, 'Universitas Pembangunan Jaya']\n",
    "\n",
    "print(mahasiswa)"
   ]
  },
  {
   "cell_type": "code",
   "execution_count": 45,
   "id": "24d51495",
   "metadata": {},
   "outputs": [
    {
     "data": {
      "text/plain": [
       "'Blue'"
      ]
     },
     "execution_count": 45,
     "metadata": {},
     "output_type": "execute_result"
    }
   ],
   "source": [
    "bin_colors=['Red','Green','Blue','Yellow\\n']\n",
    "bin_colors[-2]"
   ]
  },
  {
   "cell_type": "code",
   "execution_count": 32,
   "id": "b2d61d1b",
   "metadata": {},
   "outputs": [
    {
     "data": {
      "text/plain": [
       "['Red', 'Green', 'Blue', 'Yellow']"
      ]
     },
     "execution_count": 32,
     "metadata": {},
     "output_type": "execute_result"
    }
   ],
   "source": [
    "bin_colors=['Red','Green','Blue','Yellow']\n",
    "bin_colors[0:6]\n"
   ]
  },
  {
   "cell_type": "code",
   "execution_count": 46,
   "id": "b864f7b6",
   "metadata": {},
   "outputs": [
    {
     "name": "stdout",
     "output_type": "stream",
     "text": [
      "Red Square\n",
      "Green Square\n",
      "Blue Square\n",
      "Yellow Square\n"
     ]
    }
   ],
   "source": [
    "bin_colors=['Red','Green','Blue','Yellow']\n",
    "for aColor in bin_colors:\n",
    "    print(aColor + \" Square\")\n"
   ]
  },
  {
   "cell_type": "code",
   "execution_count": 69,
   "id": "a1c6d67c",
   "metadata": {},
   "outputs": [
    {
     "name": "stdout",
     "output_type": "stream",
     "text": [
      "[2022071031]\n"
     ]
    }
   ],
   "source": [
    "today = date.today()\n",
    "mahasiswa = ['Irvan Nurfauzan Saputra', \n",
    "             2022071031, 'Informatika', 'DAA', \n",
    "             today, 'Universitas Pembangunan Jaya']\n",
    "\n",
    "print(mahasiswa[1:4:5])"
   ]
  },
  {
   "cell_type": "code",
   "execution_count": 72,
   "id": "53f3bbf4",
   "metadata": {},
   "outputs": [
    {
     "name": "stdout",
     "output_type": "stream",
     "text": [
      "Irvan Nurfauzan Saputra UPJ\n",
      "2022071031 UPJ\n",
      "Informatika UPJ\n",
      "DAA UPJ\n",
      "2023-09-13 UPJ\n",
      "Universitas Pembangunan Jaya UPJ\n"
     ]
    }
   ],
   "source": [
    "date_string = today.strftime(\"%Y-%m-%d\")\n",
    "\n",
    "mahasiswa = ['Irvan Nurfauzan Saputra', \n",
    "             '2022071031', 'Informatika', 'DAA', \n",
    "             date_string, 'Universitas Pembangunan Jaya']\n",
    "for mhs in mahasiswa:\n",
    "    print(mhs + \" UPJ\")"
   ]
  },
  {
   "cell_type": "code",
   "execution_count": 74,
   "id": "1073aa89",
   "metadata": {},
   "outputs": [
    {
     "name": "stdout",
     "output_type": "stream",
     "text": [
      "(('senin', 'selasa', 'rabu'), ('kamis', 'jumat', 'sabtu'))\n"
     ]
    }
   ],
   "source": [
    "hariAwal = (\"senin\",\"selasa\",\"rabu\")\n",
    "hariAkhir = (\"kamis\",\"jumat\",\"sabtu\")\n",
    "\n",
    "hari = (hariAwal, hariAkhir)\n",
    "print(hari)\n"
   ]
  },
  {
   "cell_type": "code",
   "execution_count": 75,
   "id": "44a798cc",
   "metadata": {},
   "outputs": [
    {
     "name": "stdout",
     "output_type": "stream",
     "text": [
      "{'manual_color': 'Yellow', 'approved_color': 'Green', 'refused_color': 'Red'}\n"
     ]
    }
   ],
   "source": [
    "bin_colors ={\n",
    "\"manual_color\": \"Yellow\",\n",
    "\"approved_color\": \"Green\",\n",
    "\"refused_color\": \"Red\"\n",
    "}\n",
    "print(bin_colors)\n"
   ]
  },
  {
   "cell_type": "code",
   "execution_count": 123,
   "id": "7b3c75a2",
   "metadata": {},
   "outputs": [
    {
     "data": {
      "text/plain": [
       "'Green'"
      ]
     },
     "execution_count": 123,
     "metadata": {},
     "output_type": "execute_result"
    }
   ],
   "source": [
    "bin_colors.get('approved_color')\n",
    "bin_colors['approved_color']"
   ]
  },
  {
   "cell_type": "code",
   "execution_count": 124,
   "id": "99629448",
   "metadata": {},
   "outputs": [
    {
     "name": "stdout",
     "output_type": "stream",
     "text": [
      "{'manual_color': 'Yellow', 'approved_color': 'Green', 'refused_color': 'Red'}\n"
     ]
    }
   ],
   "source": [
    "bin_colors ={\n",
    "\"manual_color\": \"Yellow\",\n",
    "\"approved_color\": \"Green\",\n",
    "\"refused_color\": \"Red\"\n",
    "}\n",
    "print(bin_colors)\n"
   ]
  },
  {
   "cell_type": "code",
   "execution_count": 125,
   "id": "88739c69",
   "metadata": {},
   "outputs": [
    {
     "data": {
      "text/plain": [
       "'Green'"
      ]
     },
     "execution_count": 125,
     "metadata": {},
     "output_type": "execute_result"
    }
   ],
   "source": [
    "bin_colors.get('approved_color')\n",
    "bin_colors['approved_color']\n"
   ]
  },
  {
   "cell_type": "code",
   "execution_count": 126,
   "id": "dd1a2ae4",
   "metadata": {},
   "outputs": [
    {
     "name": "stdout",
     "output_type": "stream",
     "text": [
      "{'manual_color': 'Yellow', 'approved_color': 'Purple', 'refused_color': 'Red'}\n"
     ]
    }
   ],
   "source": [
    "bin_colors['approved_color']=\"Purple\"\n",
    "print(bin_colors)\n"
   ]
  },
  {
   "cell_type": "code",
   "execution_count": 122,
   "id": "61c09e81",
   "metadata": {},
   "outputs": [
    {
     "name": "stdout",
     "output_type": "stream",
     "text": [
      "{'NAMA': 'Irvan Nurfauzan Saputra', 'NIM ': '2022071031', 'Prodi ': 'Informatika', 'Mata Kuliah': 'Desain Analisis Algoritma', 'Universitas': 'Universitas Pembangunan Jaya'}\n"
     ]
    }
   ],
   "source": [
    "#DICTIONARY\n",
    "import numpy as np\n",
    "\n",
    "bin_mahasiswa = {\"NAMA\"  :\"Irvan Nurfauzan Saputra\",\n",
    "              \"NIM \" : \"2022071031\",\n",
    "              \"Prodi \" : \"Informatika\",\n",
    "              \"Mata Kuliah\" : \"Desain Analisis Algoritma\",\n",
    "              \"Universitas\" : \"Universitas Pembangunan Jaya\"}\n",
    "print(bin_mahasiswa)"
   ]
  },
  {
   "cell_type": "code",
   "execution_count": 80,
   "id": "cf70bb07",
   "metadata": {},
   "outputs": [
    {
     "name": "stdout",
     "output_type": "stream",
     "text": [
      "('100', ('200', '400', '600'), '300', ('400', '800'))\n"
     ]
    }
   ],
   "source": [
    "#NESTED TUPLE\n",
    "Pertama=(\"100\")\n",
    "Kedua=(\"200\", \"400\", \"600\")\n",
    "Ketiga=(\"300\")\n",
    "Keempat=(\"400\", \"800\")\n",
    "Total = (Pertama,Kedua,Ketiga,Keempat)\n",
    "print(Total)"
   ]
  },
  {
   "cell_type": "code",
   "execution_count": 84,
   "id": "dcae6c25",
   "metadata": {},
   "outputs": [
    {
     "name": "stdout",
     "output_type": "stream",
     "text": [
      "{1, 2, 3, 4, 5, 6}\n"
     ]
    }
   ],
   "source": [
    "#Union\n",
    "set_A = {1,2,3,4}\n",
    "set_B = {3,4,5,6}\n",
    "print(set_A | set_B)"
   ]
  },
  {
   "cell_type": "code",
   "execution_count": 86,
   "id": "1b336ec9",
   "metadata": {},
   "outputs": [
    {
     "name": "stdout",
     "output_type": "stream",
     "text": [
      "{3, 4}\n",
      "{3, 4}\n"
     ]
    }
   ],
   "source": [
    "#Intersection\n",
    "print(set_A & set_B)\n",
    "print(set_A.intersection(set_B))\n"
   ]
  },
  {
   "cell_type": "code",
   "execution_count": 88,
   "id": "f06fc82f",
   "metadata": {},
   "outputs": [
    {
     "name": "stdout",
     "output_type": "stream",
     "text": [
      "{1, 2}\n",
      "{1, 2}\n",
      "{5, 6}\n",
      "{5, 6}\n"
     ]
    }
   ],
   "source": [
    "#Difference\n",
    "#A - B\n",
    "print(set_A - set_B)\n",
    "print(set_A.difference(set_B))\n",
    "\n",
    "#B - A\n",
    "print(set_B - set_A)\n",
    "print(set_B.difference(set_A))\n"
   ]
  },
  {
   "cell_type": "code",
   "execution_count": 90,
   "id": "29fa2d40",
   "metadata": {},
   "outputs": [
    {
     "name": "stdout",
     "output_type": "stream",
     "text": [
      "{1, 2, 5, 6}\n",
      "{1, 2, 5, 6}\n"
     ]
    }
   ],
   "source": [
    "#Symmetric Difference \n",
    "print(set_A ^ set_B)\n",
    "print(set_A.symmetric_difference(set_B))\n"
   ]
  },
  {
   "cell_type": "code",
   "execution_count": 92,
   "id": "539617f2",
   "metadata": {},
   "outputs": [
    {
     "name": "stdout",
     "output_type": "stream",
     "text": [
      "{'fire hydrant'}\n",
      "{'dandelions', 'blood', 'Leaves', 'rose', 'fire hydrant', 'leaves'}\n"
     ]
    }
   ],
   "source": [
    "#Latihan\n",
    "red = {'dandelions', 'Leaves', 'fire hydrant',}\n",
    "yelow = {'rose', 'blood', 'leaves', 'fire hydrant'}\n",
    "\n",
    "print(red & yelow)\n",
    "print(red | yelow)"
   ]
  },
  {
   "cell_type": "code",
   "execution_count": 100,
   "id": "43da5118",
   "metadata": {},
   "outputs": [
    {
     "name": "stdout",
     "output_type": "stream",
     "text": [
      "  id    name  age  decision\n",
      "0  1   Fares   32      True\n",
      "1  2   Elena   23     False\n",
      "2  3  Steven   40      True\n"
     ]
    }
   ],
   "source": [
    "import pandas as pd\n",
    "\n",
    "df = pd.DataFrame([\n",
    "    ['1', 'Fares', 32, True],\n",
    "    ['2', 'Elena', 23, False],\n",
    "    ['3', 'Steven', 40, True]\n",
    "])\n",
    "\n",
    "df.columns = ['id', 'name', 'age', 'decision']\n",
    "print(df)\n"
   ]
  },
  {
   "cell_type": "code",
   "execution_count": 105,
   "id": "9fd6e967",
   "metadata": {},
   "outputs": [
    {
     "data": {
      "text/html": [
       "<div>\n",
       "<style scoped>\n",
       "    .dataframe tbody tr th:only-of-type {\n",
       "        vertical-align: middle;\n",
       "    }\n",
       "\n",
       "    .dataframe tbody tr th {\n",
       "        vertical-align: top;\n",
       "    }\n",
       "\n",
       "    .dataframe thead th {\n",
       "        text-align: right;\n",
       "    }\n",
       "</style>\n",
       "<table border=\"1\" class=\"dataframe\">\n",
       "  <thead>\n",
       "    <tr style=\"text-align: right;\">\n",
       "      <th></th>\n",
       "      <th>id</th>\n",
       "      <th>name</th>\n",
       "      <th>age</th>\n",
       "      <th>decision</th>\n",
       "    </tr>\n",
       "  </thead>\n",
       "  <tbody>\n",
       "    <tr>\n",
       "      <th>1</th>\n",
       "      <td>2</td>\n",
       "      <td>Elena</td>\n",
       "      <td>23</td>\n",
       "      <td>False</td>\n",
       "    </tr>\n",
       "    <tr>\n",
       "      <th>2</th>\n",
       "      <td>3</td>\n",
       "      <td>Steven</td>\n",
       "      <td>40</td>\n",
       "      <td>True</td>\n",
       "    </tr>\n",
       "  </tbody>\n",
       "</table>\n",
       "</div>"
      ],
      "text/plain": [
       "  id    name  age  decision\n",
       "1  2   Elena   23     False\n",
       "2  3  Steven   40      True"
      ]
     },
     "execution_count": 105,
     "metadata": {},
     "output_type": "execute_result"
    }
   ],
   "source": [
    "#Row Selection\n",
    "df.iloc[1:3,:]\n",
    "\n",
    "\n"
   ]
  },
  {
   "cell_type": "code",
   "execution_count": 107,
   "id": "d8bea844",
   "metadata": {},
   "outputs": [
    {
     "data": {
      "text/html": [
       "<div>\n",
       "<style scoped>\n",
       "    .dataframe tbody tr th:only-of-type {\n",
       "        vertical-align: middle;\n",
       "    }\n",
       "\n",
       "    .dataframe tbody tr th {\n",
       "        vertical-align: top;\n",
       "    }\n",
       "\n",
       "    .dataframe thead th {\n",
       "        text-align: right;\n",
       "    }\n",
       "</style>\n",
       "<table border=\"1\" class=\"dataframe\">\n",
       "  <thead>\n",
       "    <tr style=\"text-align: right;\">\n",
       "      <th></th>\n",
       "      <th>id</th>\n",
       "      <th>name</th>\n",
       "      <th>age</th>\n",
       "      <th>decision</th>\n",
       "    </tr>\n",
       "  </thead>\n",
       "  <tbody>\n",
       "    <tr>\n",
       "      <th>0</th>\n",
       "      <td>1</td>\n",
       "      <td>Fares</td>\n",
       "      <td>32</td>\n",
       "      <td>True</td>\n",
       "    </tr>\n",
       "    <tr>\n",
       "      <th>2</th>\n",
       "      <td>3</td>\n",
       "      <td>Steven</td>\n",
       "      <td>40</td>\n",
       "      <td>True</td>\n",
       "    </tr>\n",
       "  </tbody>\n",
       "</table>\n",
       "</div>"
      ],
      "text/plain": [
       "  id    name  age  decision\n",
       "0  1   Fares   32      True\n",
       "2  3  Steven   40      True"
      ]
     },
     "execution_count": 107,
     "metadata": {},
     "output_type": "execute_result"
    }
   ],
   "source": [
    "df[df.age>30]\n"
   ]
  },
  {
   "cell_type": "code",
   "execution_count": 109,
   "id": "9c1b9bb6",
   "metadata": {},
   "outputs": [
    {
     "data": {
      "text/html": [
       "<div>\n",
       "<style scoped>\n",
       "    .dataframe tbody tr th:only-of-type {\n",
       "        vertical-align: middle;\n",
       "    }\n",
       "\n",
       "    .dataframe tbody tr th {\n",
       "        vertical-align: top;\n",
       "    }\n",
       "\n",
       "    .dataframe thead th {\n",
       "        text-align: right;\n",
       "    }\n",
       "</style>\n",
       "<table border=\"1\" class=\"dataframe\">\n",
       "  <thead>\n",
       "    <tr style=\"text-align: right;\">\n",
       "      <th></th>\n",
       "      <th>satu</th>\n",
       "      <th>dua</th>\n",
       "      <th>tiga</th>\n",
       "    </tr>\n",
       "  </thead>\n",
       "  <tbody>\n",
       "    <tr>\n",
       "      <th>a</th>\n",
       "      <td>1</td>\n",
       "      <td>2</td>\n",
       "      <td>3</td>\n",
       "    </tr>\n",
       "    <tr>\n",
       "      <th>b</th>\n",
       "      <td>1</td>\n",
       "      <td>2</td>\n",
       "      <td>3</td>\n",
       "    </tr>\n",
       "    <tr>\n",
       "      <th>c</th>\n",
       "      <td>1</td>\n",
       "      <td>2</td>\n",
       "      <td>3</td>\n",
       "    </tr>\n",
       "    <tr>\n",
       "      <th>d</th>\n",
       "      <td>1</td>\n",
       "      <td>2</td>\n",
       "      <td>3</td>\n",
       "    </tr>\n",
       "    <tr>\n",
       "      <th>e</th>\n",
       "      <td>1</td>\n",
       "      <td>2</td>\n",
       "      <td>3</td>\n",
       "    </tr>\n",
       "  </tbody>\n",
       "</table>\n",
       "</div>"
      ],
      "text/plain": [
       "   satu  dua  tiga\n",
       "a     1    2     3\n",
       "b     1    2     3\n",
       "c     1    2     3\n",
       "d     1    2     3\n",
       "e     1    2     3"
      ]
     },
     "execution_count": 109,
     "metadata": {},
     "output_type": "execute_result"
    }
   ],
   "source": [
    "data = {'satu': [1,1,1,1,1],\n",
    "        'dua' : [2,2,2,2,2],\n",
    "        'tiga': [3,3,3,3,3]}\n",
    "\n",
    "df = pd.DataFrame(data, index=['a','b','c','d','e'])\n",
    "\n",
    "df.head()\n"
   ]
  },
  {
   "cell_type": "code",
   "execution_count": 111,
   "id": "293cd3a2",
   "metadata": {},
   "outputs": [
    {
     "name": "stdout",
     "output_type": "stream",
     "text": [
      "  No             Prodi  Mahasiswa  Laki-Laki  Perempuan\n",
      "0  1       Informatika         50         30         20\n",
      "1  2  Sistem Informasi         55         30         25\n",
      "2  3      Teknik Sipil         40         30         10\n"
     ]
    }
   ],
   "source": [
    "#Latihan\n",
    "df = pd.DataFrame([\n",
    "    ['1', 'Informatika', 50, 30, 20],\n",
    "    ['2', 'Sistem Informasi', 55, 30, 25],\n",
    "    ['3', 'Teknik Sipil', 40, 30, 10]\n",
    "])\n",
    "\n",
    "df.columns = ['No', 'Prodi', 'Mahasiswa', 'Laki-Laki', 'Perempuan']\n",
    "print(df)"
   ]
  },
  {
   "cell_type": "code",
   "execution_count": 112,
   "id": "5416349d",
   "metadata": {}
   ],
   "source": [
    "#Matrix\n",
    "myMatrix = np.array([[11, 12, 13], [21, 22, 23], [31, 32, 33]])\n",
    "print(myMatrix)\n",
    "print(type(myMatrix))"
   ]
  },
  {
   "cell_type": "code",
   "execution_count": 114,
   "id": "97770217",
   "metadata": {},
   "outputs": [
    {
     "name": "stdout",
     "output_type": "stream",
     "text": [
      "Matriks C : \n",
      "[[1 2 3]\n",
      " [4 5 6]]\n",
      "Tranpose Matriks C : \n",
      "[[1 4]\n",
      " [2 5]\n",
      " [3 6]]\n"
     ]
    }
   ],
   "source": [
    "import numpy as np\n",
    "matriksC = np.array([[1,2,3],\n",
    "\t\t     [4,5,6]])\n",
    "print(\"Matriks C : \")\n",
    "print(matriksC)\n",
    "\n",
    "transpose_matriks = np.transpose(matriksC)\n",
    "\n",
    "print(\"Tranpose Matriks C : \")\n",
    "print(transpose_matriks)\n"
   ]
  },
  {
   "cell_type": "code",
   "execution_count": 117,
   "id": "a0e218fe",
   "metadata": {},
   "outputs": [
    {
     "name": "stdout",
     "output_type": "stream",
     "text": [
      "[[ 100  200  300]\n",
      " [ 700  600  500]\n",
      " [ 900 1000  800]]\n",
      "Tranpose Matriks : \n",
      "[[ 100  700  900]\n",
      " [ 200  600 1000]\n",
      " [ 300  500  800]]\n"
     ]
    }
   ],
   "source": [
    "#Latihan\n",
    "Matrixx = np.array([[100, 200, 300,], [700, 600, 500], [900, 1000, 800]])\n",
    "print(Matrixx)\n",
    "\n",
    "transpose_matrikss = np.transpose(Matrixx)\n",
    "print(\"Tranpose Matriks : \")\n",
    "print(transpose_matrikss)"
   ]
  },
  {
   "cell_type": "code",
   "execution_count": 120,
   "id": "8e1114bf",
   "metadata": {},
   "outputs": [
    {
     "name": "stdout",
     "output_type": "stream",
     "text": [
      "[22, 33, 44, 55]\n",
      "<class 'list'>\n"
     ]
    }
   ],
   "source": [
    "#Vector\n",
    "myVector = [22,33,44,55]\n",
    "print(myVector)\n",
    "\n",
    "print(type(myVector))\n"
   ]
  },
  {
   "cell_type": "code",
   "execution_count": null,
   "id": "fe3aee11",
   "metadata": {},
   "outputs": [],
   "source": []
  },
  {
   "cell_type": "raw",
   "id": "d74e22e1",
   "metadata": {},
   "source": [
    "#Binary Tree\n",
    "class Node:\n",
    "    def __init__(self,data):\n",
    "        self.left = None\n",
    "        self.right = None\n",
    "        self.data = data\n",
    "    def PrintTree(self):\n",
    "        if self.left:\n",
    "            self.left.PrintTree()\n",
    "        print( self.data),\n",
    "        if self.right:\n",
    "            self.right.PrintTree()\n"
   ]
  },
  {
   "cell_type": "code",
   "execution_count": null,
   "id": "b8f1b16d",
   "metadata": {},
   "outputs": [],
   "source": []
  }
 ],
 "metadata": {
  "kernelspec": {
   "display_name": "Python 3 (ipykernel)",
   "language": "python",
   "name": "python3"
  },
  "language_info": {
   "codemirror_mode": {
    "name": "ipython",
    "version": 3
   },
   "file_extension": ".py",
   "mimetype": "text/x-python",
   "name": "python",
   "nbconvert_exporter": "python",
   "pygments_lexer": "ipython3",
   "version": "3.11.4"
  }
 },
 "nbformat": 4,
 "nbformat_minor": 5
}
