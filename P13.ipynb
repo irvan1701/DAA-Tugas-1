{
 "cells": [
  {
   "cell_type": "code",
   "execution_count": 1,
   "metadata": {},
   "outputs": [],
   "source": [
    "def bfs(graph, start):\n",
    "    \"\"\"\n",
    "    Melakukan pencarian secara breadth first pada graph.\n",
    "\n",
    "    Args:\n",
    "      graph: Graph yang akan ditelusuri.\n",
    "      start: Node awal yang akan ditelusuri.\n",
    "\n",
    "    Returns:\n",
    "      List yang berisi node-node yang telah dikunjungi.\n",
    "    \"\"\"\n",
    "\n",
    "    visited = []\n",
    "    queue = []\n",
    "\n",
    "    queue.append(start)\n",
    "\n",
    "    while queue:\n",
    "        node = queue.pop(0)\n",
    "        if node not in visited:\n",
    "            visited.append(node)\n",
    "            neighbours = graph[node]\n",
    "            for neighbour in neighbours:\n",
    "                queue.append(neighbour)\n",
    "\n",
    "    return visited\n"
   ]
  },
  {
   "cell_type": "code",
   "execution_count": 2,
   "metadata": {},
   "outputs": [],
   "source": [
    "graph = { 'Amin' : {'Wasim', 'Nick', 'Mike'},\n",
    "          'Wasim' : {'Imran', 'Amin'},\n",
    "          'Imran' : {'Wasim', 'Faras'},\n",
    "          'Faras' : {'Imran'},\n",
    "          'Mike' : {'Amin'},\n",
    "          'Nick' : {'Amin'}}"
   ]
  },
  {
   "cell_type": "code",
   "execution_count": 3,
   "metadata": {},
   "outputs": [
    {
     "data": {
      "text/plain": [
       "['Amin', 'Nick', 'Wasim', 'Mike', 'Imran', 'Faras']"
      ]
     },
     "execution_count": 3,
     "metadata": {},
     "output_type": "execute_result"
    }
   ],
   "source": [
    "bfs (graph, 'Amin')"
   ]
  },
  {
   "cell_type": "code",
   "execution_count": 5,
   "metadata": {},
   "outputs": [
    {
     "data": {
      "text/plain": [
       "['Nick', 'Amin', 'Wasim', 'Mike', 'Imran', 'Faras']"
      ]
     },
     "execution_count": 5,
     "metadata": {},
     "output_type": "execute_result"
    }
   ],
   "source": [
    "bfs(graph, 'Nick')"
   ]
  },
  {
   "cell_type": "code",
   "execution_count": 6,
   "metadata": {},
   "outputs": [
    {
     "data": {
      "text/plain": [
       "['Wasim', 'Imran', 'Amin', 'Faras', 'Nick', 'Mike']"
      ]
     },
     "execution_count": 6,
     "metadata": {},
     "output_type": "execute_result"
    }
   ],
   "source": [
    "bfs (graph, 'Wasim')"
   ]
  },
  {
   "cell_type": "code",
   "execution_count": 7,
   "metadata": {},
   "outputs": [
    {
     "data": {
      "text/plain": [
       "['Faras', 'Imran', 'Wasim', 'Amin', 'Nick', 'Mike']"
      ]
     },
     "execution_count": 7,
     "metadata": {},
     "output_type": "execute_result"
    }
   ],
   "source": [
    "bfs (graph, 'Faras')"
   ]
  },
  {
   "cell_type": "code",
   "execution_count": 9,
   "metadata": {},
   "outputs": [
    {
     "data": {
      "text/plain": [
       "['Mike', 'Amin', 'Nick', 'Wasim', 'Imran', 'Faras']"
      ]
     },
     "execution_count": 9,
     "metadata": {},
     "output_type": "execute_result"
    }
   ],
   "source": [
    "bfs (graph, 'Mike')"
   ]
  },
  {
   "cell_type": "code",
   "execution_count": 11,
   "metadata": {},
   "outputs": [
    {
     "data": {
      "text/plain": [
       "['Imran', 'Wasim', 'Faras', 'Amin', 'Nick', 'Mike']"
      ]
     },
     "execution_count": 11,
     "metadata": {},
     "output_type": "execute_result"
    }
   ],
   "source": [
    "bfs (graph, 'Imran')"
   ]
  },
  {
   "cell_type": "code",
   "execution_count": 57,
   "metadata": {},
   "outputs": [],
   "source": [
    "graphRektor = { 'Rektor' : {'Warek 1', 'Warek 2'},\n",
    "                'Warek 1' : {'Rektor'},\n",
    "                'Warek 2' : {'Rektor', 'Kaprodi 1', 'Kaprodi 2', 'Kaprodi 3'},\n",
    "                'Kaprodi 1' : {'Dosen A', 'Dosen B', 'Dosen C', 'Warek 2'},\n",
    "                'Kaprodi 2' : {'Warek 2', 'Dosen D', 'Dosen E'},\n",
    "                'Kaprodi 3' : {'Warek 2', 'Dosen F', 'Dosen G'},\n",
    "                'Dosen A' : {'Kaprodi 1'},\n",
    "                'Dosen B' : {'Kaprodi 1'},\n",
    "                'Dosen C' : {'Kaprodi 1'},\n",
    "                'Dosen D' : {'Kaprodi 2'},\n",
    "                'Dosen E' : {'Kaprodi 2'},\n",
    "                'Dosen F' : {'Kaprodi 3'},\n",
    "                'Dosen G' : {'Kaprodi 3'}}"
   ]
  },
  {
   "cell_type": "code",
   "execution_count": 17,
   "metadata": {},
   "outputs": [
    {
     "data": {
      "text/plain": [
       "['Rektor',\n",
       " 'Warek 2',\n",
       " 'Warek 1',\n",
       " 'Kaprodi 2',\n",
       " 'Kaprodi 3',\n",
       " 'Kaprodi 1',\n",
       " 'Dosen D',\n",
       " 'Dosen E',\n",
       " 'Dosen F',\n",
       " 'Dosen G',\n",
       " 'Dosen A',\n",
       " 'Dosen B',\n",
       " 'Dosen C']"
      ]
     },
     "execution_count": 17,
     "metadata": {},
     "output_type": "execute_result"
    }
   ],
   "source": [
    "bfs (graphRektor, 'Rektor')"
   ]
  },
  {
   "cell_type": "code",
   "execution_count": 19,
   "metadata": {},
   "outputs": [
    {
     "data": {
      "text/plain": [
       "['Kaprodi 2',\n",
       " 'Dosen D',\n",
       " 'Warek 2',\n",
       " 'Dosen E',\n",
       " 'Rektor',\n",
       " 'Kaprodi 3',\n",
       " 'Kaprodi 1',\n",
       " 'Warek 1',\n",
       " 'Dosen F',\n",
       " 'Dosen G',\n",
       " 'Dosen A',\n",
       " 'Dosen B',\n",
       " 'Dosen C']"
      ]
     },
     "execution_count": 19,
     "metadata": {},
     "output_type": "execute_result"
    }
   ],
   "source": [
    "bfs (graphRektor, 'Kaprodi 2')"
   ]
  },
  {
   "cell_type": "code",
   "execution_count": 20,
   "metadata": {},
   "outputs": [
    {
     "data": {
      "text/plain": [
       "['Dosen C',\n",
       " 'Kaprodi 1',\n",
       " 'Dosen A',\n",
       " 'Dosen B',\n",
       " 'Warek 2',\n",
       " 'Rektor',\n",
       " 'Kaprodi 2',\n",
       " 'Kaprodi 3',\n",
       " 'Warek 1',\n",
       " 'Dosen D',\n",
       " 'Dosen E',\n",
       " 'Dosen F',\n",
       " 'Dosen G']"
      ]
     },
     "execution_count": 20,
     "metadata": {},
     "output_type": "execute_result"
    }
   ],
   "source": [
    "bfs (graphRektor, 'Dosen C')"
   ]
  },
  {
   "cell_type": "code",
   "execution_count": 18,
   "metadata": {},
   "outputs": [
    {
     "data": {
      "text/plain": [
       "['Warek 2',\n",
       " 'Rektor',\n",
       " 'Kaprodi 2',\n",
       " 'Kaprodi 3',\n",
       " 'Kaprodi 1',\n",
       " 'Warek 1',\n",
       " 'Dosen D',\n",
       " 'Dosen E',\n",
       " 'Dosen F',\n",
       " 'Dosen G',\n",
       " 'Dosen A',\n",
       " 'Dosen B',\n",
       " 'Dosen C']"
      ]
     },
     "execution_count": 18,
     "metadata": {},
     "output_type": "execute_result"
    }
   ],
   "source": [
    "bfs (graphRektor, 'Warek 2')"
   ]
  },
  {
   "cell_type": "code",
   "execution_count": 26,
   "metadata": {},
   "outputs": [],
   "source": [
    "GraphBFS = { '0'  : ['7', '11', '9'],\n",
    "             '9'  : ['8', '10'],\n",
    "            '11'  : ['0', '7'],\n",
    "             '7'  : ['6','3', '11', '0'],\n",
    "             '10' : ['1', '9'],\n",
    "             '8'  : ['12', '1'],\n",
    "             '1'  : ['8', '10'],\n",
    "             '12' : ['2', '8'],\n",
    "             '2'  : ['3', '12'],\n",
    "             '3'  : ['4', '7', '2'],\n",
    "             '6'  : ['5', '7'],\n",
    "             '5'  : ['6'],\n",
    "             '4'  : ['3']\n",
    "             \n",
    "             \n",
    "            }"
   ]
  },
  {
   "cell_type": "code",
   "execution_count": 30,
   "metadata": {},
   "outputs": [
    {
     "data": {
      "text/plain": [
       "['0', '7', '11', '9', '6', '3', '8', '10', '5', '4', '2', '12', '1']"
      ]
     },
     "execution_count": 30,
     "metadata": {},
     "output_type": "execute_result"
    }
   ],
   "source": [
    "bfs (GraphBFS, '0')"
   ]
  },
  {
   "cell_type": "code",
   "execution_count": 31,
   "metadata": {},
   "outputs": [
    {
     "data": {
      "text/plain": [
       "['1', '8', '10', '12', '9', '2', '3', '4', '7', '6', '11', '0', '5']"
      ]
     },
     "execution_count": 31,
     "metadata": {},
     "output_type": "execute_result"
    }
   ],
   "source": [
    "bfs (GraphBFS, '1')"
   ]
  },
  {
   "cell_type": "code",
   "execution_count": 32,
   "metadata": {},
   "outputs": [
    {
     "data": {
      "text/plain": [
       "['2', '3', '12', '4', '7', '8', '6', '11', '0', '1', '5', '9', '10']"
      ]
     },
     "execution_count": 32,
     "metadata": {},
     "output_type": "execute_result"
    }
   ],
   "source": [
    "bfs (GraphBFS, '2')"
   ]
  },
  {
   "cell_type": "code",
   "execution_count": 33,
   "metadata": {},
   "outputs": [
    {
     "data": {
      "text/plain": [
       "['3', '4', '7', '2', '6', '11', '0', '12', '5', '9', '8', '10', '1']"
      ]
     },
     "execution_count": 33,
     "metadata": {},
     "output_type": "execute_result"
    }
   ],
   "source": [
    "bfs (GraphBFS, '3')"
   ]
  },
  {
   "cell_type": "code",
   "execution_count": 34,
   "metadata": {},
   "outputs": [
    {
     "data": {
      "text/plain": [
       "['4', '3', '7', '2', '6', '11', '0', '12', '5', '9', '8', '10', '1']"
      ]
     },
     "execution_count": 34,
     "metadata": {},
     "output_type": "execute_result"
    }
   ],
   "source": [
    "bfs (GraphBFS, '4')"
   ]
  },
  {
   "cell_type": "code",
   "execution_count": 35,
   "metadata": {},
   "outputs": [
    {
     "data": {
      "text/plain": [
       "['5', '6', '7', '3', '11', '0', '4', '2', '9', '12', '8', '10', '1']"
      ]
     },
     "execution_count": 35,
     "metadata": {},
     "output_type": "execute_result"
    }
   ],
   "source": [
    "bfs (GraphBFS, '5')"
   ]
  },
  {
   "cell_type": "code",
   "execution_count": 36,
   "metadata": {},
   "outputs": [
    {
     "data": {
      "text/plain": [
       "['6', '5', '7', '3', '11', '0', '4', '2', '9', '12', '8', '10', '1']"
      ]
     },
     "execution_count": 36,
     "metadata": {},
     "output_type": "execute_result"
    }
   ],
   "source": [
    "bfs (GraphBFS, '6')"
   ]
  },
  {
   "cell_type": "code",
   "execution_count": 37,
   "metadata": {},
   "outputs": [
    {
     "data": {
      "text/plain": [
       "['7', '6', '3', '11', '0', '5', '4', '2', '9', '12', '8', '10', '1']"
      ]
     },
     "execution_count": 37,
     "metadata": {},
     "output_type": "execute_result"
    }
   ],
   "source": [
    "bfs (GraphBFS, '7')"
   ]
  },
  {
   "cell_type": "code",
   "execution_count": 38,
   "metadata": {},
   "outputs": [
    {
     "data": {
      "text/plain": [
       "['8', '12', '1', '2', '10', '3', '9', '4', '7', '6', '11', '0', '5']"
      ]
     },
     "execution_count": 38,
     "metadata": {},
     "output_type": "execute_result"
    }
   ],
   "source": [
    "bfs (GraphBFS, '8')"
   ]
  },
  {
   "cell_type": "code",
   "execution_count": 39,
   "metadata": {},
   "outputs": [
    {
     "data": {
      "text/plain": [
       "['9', '8', '10', '12', '1', '2', '3', '4', '7', '6', '11', '0', '5']"
      ]
     },
     "execution_count": 39,
     "metadata": {},
     "output_type": "execute_result"
    }
   ],
   "source": [
    "bfs (GraphBFS, '9')"
   ]
  },
  {
   "cell_type": "code",
   "execution_count": 41,
   "metadata": {},
   "outputs": [
    {
     "data": {
      "text/plain": [
       "['10', '1', '9', '8', '12', '2', '3', '4', '7', '6', '11', '0', '5']"
      ]
     },
     "execution_count": 41,
     "metadata": {},
     "output_type": "execute_result"
    }
   ],
   "source": [
    "bfs (GraphBFS, '10')"
   ]
  },
  {
   "cell_type": "code",
   "execution_count": 42,
   "metadata": {},
   "outputs": [
    {
     "data": {
      "text/plain": [
       "['11', '0', '7', '9', '6', '3', '8', '10', '5', '4', '2', '12', '1']"
      ]
     },
     "execution_count": 42,
     "metadata": {},
     "output_type": "execute_result"
    }
   ],
   "source": [
    "bfs (GraphBFS, '11')"
   ]
  },
  {
   "cell_type": "code",
   "execution_count": 43,
   "metadata": {},
   "outputs": [
    {
     "data": {
      "text/plain": [
       "['12', '2', '8', '3', '1', '4', '7', '10', '6', '11', '0', '9', '5']"
      ]
     },
     "execution_count": 43,
     "metadata": {},
     "output_type": "execute_result"
    }
   ],
   "source": [
    "bfs (GraphBFS, '12')"
   ]
  },
  {
   "cell_type": "code",
   "execution_count": 49,
   "metadata": {},
   "outputs": [],
   "source": [
    "def dfs(visited, graph, node):\n",
    "    if node not in visited:\n",
    "        print(node)\n",
    "        visited.add(node)\n",
    "        for neighbour in graph[node]:\n",
    "            dfs(visited, graph, neighbour)"
   ]
  },
  {
   "cell_type": "code",
   "execution_count": 51,
   "metadata": {},
   "outputs": [
    {
     "name": "stdout",
     "output_type": "stream",
     "text": [
      "Amin\n",
      "Nick\n",
      "Wasim\n",
      "Imran\n",
      "Faras\n",
      "Mike\n"
     ]
    }
   ],
   "source": [
    "visited = set()\n",
    "dfs(visited, graph, 'Amin')"
   ]
  },
  {
   "cell_type": "code",
   "execution_count": 62,
   "metadata": {},
   "outputs": [
    {
     "name": "stdout",
     "output_type": "stream",
     "text": [
      "Rektor\n",
      "Warek 2\n",
      "Kaprodi 2\n",
      "Dosen D\n",
      "Dosen E\n",
      "Kaprodi 3\n",
      "Dosen F\n",
      "Dosen G\n",
      "Kaprodi 1\n",
      "Dosen A\n",
      "Dosen B\n",
      "Dosen C\n",
      "Warek 1\n"
     ]
    }
   ],
   "source": [
    "visited = set()\n",
    "dfs(visited, graphRektor, 'Rektor')"
   ]
  }
 ],
 "metadata": {
  "kernelspec": {
   "display_name": "Python 3",
   "language": "python",
   "name": "python3"
  },
  "language_info": {
   "codemirror_mode": {
    "name": "ipython",
    "version": 3
   },
   "file_extension": ".py",
   "mimetype": "text/x-python",
   "name": "python",
   "nbconvert_exporter": "python",
   "pygments_lexer": "ipython3",
   "version": "3.11.6"
  }
 },
 "nbformat": 4,
 "nbformat_minor": 2
}
